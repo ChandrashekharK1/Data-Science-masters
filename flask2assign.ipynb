{
 "cells": [
  {
   "cell_type": "markdown",
   "id": "40db1c7d-4df1-4adf-98ea-44d77f9d5d19",
   "metadata": {},
   "source": [
    "Q1. Explain GET and POST methods."
   ]
  },
  {
   "cell_type": "markdown",
   "id": "decac115-a0cc-4130-b3e9-ccaaef606d7e",
   "metadata": {},
   "source": [
    "ANS:"
   ]
  },
  {
   "cell_type": "markdown",
   "id": "0306ec87-c923-49fd-b1fd-d7aba5f7eaac",
   "metadata": {},
   "source": [
    "The GET method is limited to a maximum number of characters, while the POST method has no such limitation. This is because the GET method sends data through the resource URL, which is limited in length, while the POST method sends data through the HTTP message body, which has no such limitation."
   ]
  },
  {
   "cell_type": "markdown",
   "id": "5bb64d3a-209e-4f2f-bd83-260bbd9f9f60",
   "metadata": {},
   "source": [
    "Q2. Why is request used in Flask?"
   ]
  },
  {
   "cell_type": "markdown",
   "id": "060a8e18-ddd4-4e11-b879-fe1f5d75bd28",
   "metadata": {},
   "source": [
    "ANS:"
   ]
  },
  {
   "cell_type": "markdown",
   "id": "31b577d5-611e-4806-833e-2ebdec57a616",
   "metadata": {},
   "source": [
    "In a Flask App, we have our own Webpage (Client) and a Server. The Server should process the data. The Request, in Flask, is an object that contains all the data sent from the Client to Server."
   ]
  },
  {
   "cell_type": "markdown",
   "id": "f7e6d35c-ba19-42c4-a4dd-b767ab689027",
   "metadata": {},
   "source": [
    "Q3. Why is redirect() used in Flask?"
   ]
  },
  {
   "cell_type": "markdown",
   "id": "df460231-bcab-4153-9762-ee2036e992fb",
   "metadata": {},
   "source": [
    "ANS:"
   ]
  },
  {
   "cell_type": "markdown",
   "id": "bc07cd37-0a0a-464c-b095-1b42607ece06",
   "metadata": {},
   "source": [
    "A redirect is used in the Flask class to send the user to a particular URL with the status code"
   ]
  },
  {
   "cell_type": "markdown",
   "id": "d0dc71a7-eb06-4fb1-840f-196873aafc2b",
   "metadata": {},
   "source": [
    "Q4. What are templates in Flask? Why is the render_template() function used?"
   ]
  },
  {
   "cell_type": "markdown",
   "id": "2fd0ac76-89a7-4dc7-85c6-ffb5ce2dae4a",
   "metadata": {},
   "source": [
    "ANS:"
   ]
  },
  {
   "cell_type": "markdown",
   "id": "cfb4c338-e369-4414-bae9-6109f6e287f6",
   "metadata": {},
   "source": [
    "A template is rendered with specific data to produce a final document. Flask uses the Jinja template library to render templates. In your application, you will use templates to render HTML which will display in the user's browser. In Flask, Jinja is configured to autoescape any data that is rendered in HTML templates.\n",
    "\n",
    "The render_template finds the app by default in the templates folder. So, we just need to provide the name of the template instead of the entire path to the template. The index function renders a template index. html and hence we see the result in the browser."
   ]
  },
  {
   "cell_type": "markdown",
   "id": "9b8a41d6-443e-457a-839d-71e1c236e414",
   "metadata": {},
   "source": [
    "Q5. Create a simple API. Use Postman to test it. Attach the screenshot of the output in the Jupyter Notebook."
   ]
  },
  {
   "cell_type": "markdown",
   "id": "89b9ddc4-fef7-4569-b3f5-1d6c6c715f41",
   "metadata": {},
   "source": [
    "ANS:"
   ]
  },
  {
   "cell_type": "code",
   "execution_count": null,
   "id": "26446ccd-c4c3-4cea-ace1-2ab9061b84db",
   "metadata": {},
   "outputs": [],
   "source": []
  }
 ],
 "metadata": {
  "kernelspec": {
   "display_name": "Python 3 (ipykernel)",
   "language": "python",
   "name": "python3"
  },
  "language_info": {
   "codemirror_mode": {
    "name": "ipython",
    "version": 3
   },
   "file_extension": ".py",
   "mimetype": "text/x-python",
   "name": "python",
   "nbconvert_exporter": "python",
   "pygments_lexer": "ipython3",
   "version": "3.10.8"
  }
 },
 "nbformat": 4,
 "nbformat_minor": 5
}
