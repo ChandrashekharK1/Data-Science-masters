{
 "cells": [
  {
   "cell_type": "markdown",
   "id": "aece8522-a32f-49cc-a545-2fa684674870",
   "metadata": {},
   "source": [
    "1. Who developed Python Programming Language?"
   ]
  },
  {
   "cell_type": "markdown",
   "id": "48f6dd9e-201f-490e-b382-76e6d7ca348b",
   "metadata": {},
   "source": [
    "ANS:\n",
    "    "
   ]
  },
  {
   "cell_type": "markdown",
   "id": "761447d4-42b2-4252-8e7d-eb8d925ca782",
   "metadata": {},
   "source": [
    "Guido van rossum developed python programming language"
   ]
  },
  {
   "cell_type": "markdown",
   "id": "709b3449-1e76-4689-af5b-5402734726be",
   "metadata": {},
   "source": [
    "2. Which type of Programming does Python support? "
   ]
  },
  {
   "cell_type": "markdown",
   "id": "9a19bf0f-1181-4532-9dde-f7f836aa0f7f",
   "metadata": {},
   "source": [
    "ANS:"
   ]
  },
  {
   "cell_type": "markdown",
   "id": "6fc96bd3-71c6-41bd-9ca4-17964b02c5cf",
   "metadata": {},
   "source": [
    "python supports object-oriented, structured, and functional programming"
   ]
  },
  {
   "cell_type": "markdown",
   "id": "e1250c71-5a5e-4d60-a743-e8d77557f69e",
   "metadata": {},
   "source": [
    "3. Is Python case sensitive when dealing with identifiers?"
   ]
  },
  {
   "cell_type": "markdown",
   "id": "823c5dae-c11a-4d63-b118-1964057a91de",
   "metadata": {},
   "source": [
    "ANS:\n"
   ]
  },
  {
   "cell_type": "markdown",
   "id": "81e0cdc0-e110-45df-8fb5-0661a0c02b50",
   "metadata": {},
   "source": [
    "Yes, Python is a case-sensitive language"
   ]
  },
  {
   "cell_type": "markdown",
   "id": "ea004283-8995-42f2-887a-0f19b6737ca5",
   "metadata": {},
   "source": [
    "4. What is the correct extension of the Python file? "
   ]
  },
  {
   "cell_type": "markdown",
   "id": "17b59c71-a5c4-498b-b10d-88d6d2385008",
   "metadata": {},
   "source": [
    "ANS:"
   ]
  },
  {
   "cell_type": "markdown",
   "id": "5fa0f45b-db54-473d-8b9e-f637ad22ad4d",
   "metadata": {},
   "source": [
    ".pyc or .py is correct extension for python file"
   ]
  },
  {
   "cell_type": "markdown",
   "id": "50b2481f-b671-4db5-b047-a2cb4d16be18",
   "metadata": {},
   "source": [
    "5. Is Python code compiled or interpreted? "
   ]
  },
  {
   "cell_type": "markdown",
   "id": "d56551ea-5d9c-4277-8785-8da26ef67776",
   "metadata": {},
   "source": [
    "ANS:"
   ]
  },
  {
   "cell_type": "markdown",
   "id": "1463d508-ac42-4f75-a597-7d88e3a162b9",
   "metadata": {},
   "source": [
    "Python is an interpreted language which means source code is converted into bytecode"
   ]
  },
  {
   "cell_type": "markdown",
   "id": "b829879e-2daa-407e-9ba9-0126dfdda8ab",
   "metadata": {},
   "source": [
    "6. Name a few blocks of code used to define in Python language?"
   ]
  },
  {
   "cell_type": "markdown",
   "id": "1081ae2b-7a0f-49ec-ac43-3ff106ba8714",
   "metadata": {},
   "source": [
    "ANS:"
   ]
  },
  {
   "cell_type": "markdown",
   "id": "82be8ee0-3038-491b-9f02-739ce4f67e2a",
   "metadata": {},
   "source": [
    " blocks name are a module, a function body, and a class definition"
   ]
  },
  {
   "cell_type": "markdown",
   "id": "51fe7b3e-6338-4cfe-a48c-9512f5608e3d",
   "metadata": {},
   "source": [
    "7. State a character used to give single-line comments in Python? \n"
   ]
  },
  {
   "cell_type": "markdown",
   "id": "18517f0e-bcbb-4eb0-9622-5a09c289dd39",
   "metadata": {},
   "source": [
    "ANS:"
   ]
  },
  {
   "cell_type": "markdown",
   "id": "a600faa6-ca5f-451c-b988-e4c4c78c56b3",
   "metadata": {},
   "source": [
    "hash symbol, #"
   ]
  },
  {
   "cell_type": "markdown",
   "id": "acf5576a-1edd-42ea-ad46-d2e4fb162830",
   "metadata": {},
   "source": [
    "8. Mention functions which can help us to find the version of python that we are currently working on?"
   ]
  },
  {
   "cell_type": "markdown",
   "id": "a61c0be8-cc81-4f35-ba27-459536b96d03",
   "metadata": {},
   "source": [
    "ANS:"
   ]
  },
  {
   "cell_type": "markdown",
   "id": "46690213-f347-40e3-b755-6fad6eb7ea9b",
   "metadata": {},
   "source": [
    "The function sys. version"
   ]
  },
  {
   "cell_type": "markdown",
   "id": "92909f66-2c2c-407c-9d99-247c5ff1ab25",
   "metadata": {},
   "source": [
    "9. Python supports the creation of anonymous functions at runtime, using a construct called "
   ]
  },
  {
   "cell_type": "markdown",
   "id": "beb0623f-5519-4b2f-9c2b-9fdc88b83976",
   "metadata": {},
   "source": [
    "ANS:"
   ]
  },
  {
   "cell_type": "markdown",
   "id": "7f770aca-d380-443d-8753-aa8216915c9c",
   "metadata": {},
   "source": [
    " Lambda"
   ]
  },
  {
   "cell_type": "markdown",
   "id": "69cba0ad-9fee-4db0-a313-79deaeb53f2b",
   "metadata": {},
   "source": [
    "10. What does pip stand for python? "
   ]
  },
  {
   "cell_type": "markdown",
   "id": "9e3d8cbb-e0c7-4872-b8f0-679be3e1d1d9",
   "metadata": {},
   "source": [
    "ANS:\n",
    "    "
   ]
  },
  {
   "cell_type": "markdown",
   "id": "78b05c99-5a2b-46a8-a38c-df364b22b115",
   "metadata": {},
   "source": [
    "Prefferd install programm or install packages"
   ]
  },
  {
   "cell_type": "markdown",
   "id": "c52535e2-1cee-4e20-96e8-f4267e727424",
   "metadata": {},
   "source": [
    "11. Mention a few built-in functions in python? "
   ]
  },
  {
   "cell_type": "markdown",
   "id": "4b738e12-c8e2-4126-b025-550976da5166",
   "metadata": {},
   "source": [
    "ANS:"
   ]
  },
  {
   "cell_type": "markdown",
   "id": "4a0afd1e-109a-4c10-bae3-8c82c1e3ab40",
   "metadata": {},
   "source": [
    "print(),\n",
    "float(),\n",
    "type(),\n",
    "dir(),\n",
    "int(),\n",
    "sorted(),\n",
    "max(),\n",
    "min(),\n",
    "len(),\n",
    "str(),\n",
    "range(),\n",
    "complex(),\n",
    "bool(),     etc.\n",
    "\n",
    "\n",
    "\n"
   ]
  },
  {
   "cell_type": "markdown",
   "id": "af480333-ad0b-436a-9300-564a955e948a",
   "metadata": {},
   "source": [
    "12. What is the maximum possible length of an identifier in Python?"
   ]
  },
  {
   "cell_type": "markdown",
   "id": "bcc6dea3-823b-418d-b6c8-8f1277657ba6",
   "metadata": {},
   "source": [
    "ANS:"
   ]
  },
  {
   "cell_type": "markdown",
   "id": "cadbdb21-2288-487b-a842-b9be8d22b3bf",
   "metadata": {},
   "source": [
    " maximum possible length of an identifier is 79 Characters"
   ]
  },
  {
   "cell_type": "markdown",
   "id": "292f4929-dce9-4ab5-b48e-5c7c65e0a5d7",
   "metadata": {},
   "source": [
    "13. What are the benefits of using Python? \n"
   ]
  },
  {
   "cell_type": "markdown",
   "id": "1c9e9154-227b-46a9-b34d-cf246ccf16be",
   "metadata": {},
   "source": [
    "1. Easy to Code.it is effortless to learn\n",
    "2. Easy to Read. \n",
    "3. Free and Open-Source.\n",
    "4. Robust Standard Library.\n",
    "5. Interpreted. \n",
    "6. Portable. \n",
    "7. Object-Oriented and Procedure-Oriented.\n",
    "8. Extensible."
   ]
  },
  {
   "cell_type": "markdown",
   "id": "2be72473-020f-45de-8285-a8cf409b2124",
   "metadata": {},
   "source": [
    "14. How is memory managed in Python? "
   ]
  },
  {
   "cell_type": "markdown",
   "id": "d15eea8c-2855-470b-9107-449797c4e352",
   "metadata": {},
   "source": [
    "ANS:"
   ]
  },
  {
   "cell_type": "markdown",
   "id": "803c07a3-ddf8-4278-90d7-c44d9ca562b9",
   "metadata": {},
   "source": [
    "Memory management in Python involves a private heap containing all Python objects and data structures."
   ]
  },
  {
   "cell_type": "markdown",
   "id": "473dbfdb-3a2e-4443-a015-7c6338d64c97",
   "metadata": {},
   "source": [
    "15. How to install Python on Windows and set path variables? "
   ]
  },
  {
   "cell_type": "markdown",
   "id": "90536d3e-449f-43d4-8676-646f33b87932",
   "metadata": {},
   "source": [
    "ANS:"
   ]
  },
  {
   "cell_type": "markdown",
   "id": "73513c59-facc-4529-94c0-bc5ada0f3ed4",
   "metadata": {},
   "source": [
    "1. Right-clicking This PC and going to Properties.\n",
    "\n",
    "2. Clicking on the Advanced system settings in the menu on the left.\n",
    "\n",
    "3. Clicking on the Environment Variables button o​n the bottom right.\n",
    "\n",
    "4. In the System variables section, selecting the Path variable and clicking on Edit. The next screen will show all the directories that are currently a part of the PATH variable.\n",
    "\n",
    "5. Clicking on New and entering Python’s install directory."
   ]
  },
  {
   "cell_type": "markdown",
   "id": "76c26eb1-dac1-4939-917e-5e1af72c60a4",
   "metadata": {},
   "source": [
    "16. Is indentation required in python? \n"
   ]
  },
  {
   "cell_type": "markdown",
   "id": "768f9bba-fb0b-490b-be54-88d92149c3a9",
   "metadata": {},
   "source": [
    "ANS:"
   ]
  },
  {
   "cell_type": "markdown",
   "id": "f034f187-8c5f-4e0a-a560-3560ae7ee07a",
   "metadata": {},
   "source": [
    "Indentation is mandatory in python to define the blocks of statements"
   ]
  },
  {
   "cell_type": "code",
   "execution_count": null,
   "id": "f4bc26ab-e21e-4ad0-8940-c92f1d07f310",
   "metadata": {},
   "outputs": [],
   "source": []
  }
 ],
 "metadata": {
  "kernelspec": {
   "display_name": "Python 3 (ipykernel)",
   "language": "python",
   "name": "python3"
  },
  "language_info": {
   "codemirror_mode": {
    "name": "ipython",
    "version": 3
   },
   "file_extension": ".py",
   "mimetype": "text/x-python",
   "name": "python",
   "nbconvert_exporter": "python",
   "pygments_lexer": "ipython3",
   "version": "3.10.8"
  }
 },
 "nbformat": 4,
 "nbformat_minor": 5
}
