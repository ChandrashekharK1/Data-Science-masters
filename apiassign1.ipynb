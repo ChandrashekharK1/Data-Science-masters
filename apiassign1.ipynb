{
 "cells": [
  {
   "cell_type": "markdown",
   "id": "88b8706b-53b8-4728-9b14-0ab006000ea6",
   "metadata": {},
   "source": [
    "Q1. What is an API? Give an example, where an API is used in real life."
   ]
  },
  {
   "cell_type": "markdown",
   "id": "15c3abaa-bf80-4f9d-9e08-362683a0a9c5",
   "metadata": {},
   "source": [
    "ANS:"
   ]
  },
  {
   "cell_type": "markdown",
   "id": "8a703856-439e-460e-921a-9250ef9964b5",
   "metadata": {},
   "source": [
    "API is nothing but Application Programming Interface which is used to communicate or coordinate between two diffrent framework or application,data can be transferrd betwwn two or more software sysytem\n",
    "\n",
    "ex.in a google pay system or any online payment sysytem"
   ]
  },
  {
   "cell_type": "markdown",
   "id": "dc2f46b0-0159-4af1-aae1-df6762c0f657",
   "metadata": {},
   "source": [
    "Q2. Give advantages and disadvantages of using API."
   ]
  },
  {
   "cell_type": "markdown",
   "id": "6b6b6a7f-b3ec-41e3-ae56-b7ad53e28549",
   "metadata": {},
   "source": [
    "ANS:"
   ]
  },
  {
   "cell_type": "markdown",
   "id": "5d356708-6934-4923-bdd2-025e97ef7d9f",
   "metadata": {},
   "source": [
    "-Advantages of Api:\n",
    "    1.Increased Interoperability\n",
    "    2.Improved Efficiency\n",
    "    3.Better User Experience\n",
    "    4.Increased Flexibility\n",
    "    \n",
    "-Disadvantages of Api:\n",
    "    1.Security Concerns\n",
    "    2.Complexity\n",
    "    3.Compatibility Issues\n",
    "    4.Dependency on Third-Party Developers"
   ]
  },
  {
   "cell_type": "markdown",
   "id": "66073fb8-1c9f-4249-9141-96f45ae49798",
   "metadata": {},
   "source": [
    "Q3. What is a Web API? Differentiate between API and Web API."
   ]
  },
  {
   "cell_type": "markdown",
   "id": "098501b1-f2d8-4a19-bcfa-04c5f64ddb55",
   "metadata": {},
   "source": [
    "ANS:"
   ]
  },
  {
   "cell_type": "raw",
   "id": "b27a2d30-56ae-48a5-89ef-04c21d930036",
   "metadata": {},
   "source": [
    "API is an interface that exposes an application's data to outside software, whereas web applications are one type of API with stricter requirements\n",
    "\n",
    "API:\n",
    "TCP,SMTP,HTTP used in API\n",
    "Web service is used for REST, SOAP and XML-RPC for communication\n",
    "All Web services are APIs.\n",
    "needs a SOAP convention to send or receive data over the system.\n",
    "\n",
    "\n",
    "Web API:\n",
    "HTTP used in Web API\n",
    "API is used for any style of communication.\n",
    "APIs are not web services."
   ]
  },
  {
   "cell_type": "markdown",
   "id": "66be5547-b0c2-4c64-899a-d526b7399637",
   "metadata": {},
   "source": [
    "Q4. Explain REST and SOAP Architecture. Mention shortcomings of SOAP."
   ]
  },
  {
   "cell_type": "markdown",
   "id": "5e654b40-e11d-4e4f-ba1c-d4250a23ee55",
   "metadata": {},
   "source": [
    "ANS:"
   ]
  },
  {
   "cell_type": "markdown",
   "id": "aa194017-5adf-4589-be29-58f626879a89",
   "metadata": {},
   "source": [
    "SOAP supports only XML data exchange. REST supports XML, JSON, plain text, HTML. SOAP messages are larger, which makes communication slower. REST has faster performance due to smaller messages and caching support\n",
    "\n",
    "In SOAP, the client-server communication depends on WSDL"
   ]
  },
  {
   "cell_type": "markdown",
   "id": "4b9a1971-6a21-4da7-9a13-e4930e8dbe1b",
   "metadata": {},
   "source": [
    "Q5. Differentiate between REST and SOAP."
   ]
  },
  {
   "cell_type": "markdown",
   "id": "d518a672-580e-42a2-a59a-1ff2021edc8b",
   "metadata": {},
   "source": [
    "ANS:"
   ]
  },
  {
   "cell_type": "markdown",
   "id": "149aee06-18e6-401e-bda2-356f3f55d1a6",
   "metadata": {},
   "source": [
    "REST API:\n",
    "    Relies on SOAP\n",
    "    Transports data in standard XML format.\n",
    "    Because it is XML based and relies on SOAP, it works with WSDL\n",
    "    Highly structured/typed\n",
    "    Works over HTTP, HTTPS, SMTP, XMPP\n",
    "    Designed with large enterprise applications in mind\n",
    "    \n",
    "WEB API:\n",
    "    Relies on REST\n",
    "    It is based on URI. Because REST follows stateless model, REST does not enforces message format as XML or JSON \n",
    "    It works with GET, POST, PUT, DELETE\n",
    "    Less structured -> less bulky data\n",
    "    \n",
    "    \n",
    "    "
   ]
  }
 ],
 "metadata": {
  "kernelspec": {
   "display_name": "Python 3 (ipykernel)",
   "language": "python",
   "name": "python3"
  },
  "language_info": {
   "codemirror_mode": {
    "name": "ipython",
    "version": 3
   },
   "file_extension": ".py",
   "mimetype": "text/x-python",
   "name": "python",
   "nbconvert_exporter": "python",
   "pygments_lexer": "ipython3",
   "version": "3.10.8"
  }
 },
 "nbformat": 4,
 "nbformat_minor": 5
}
