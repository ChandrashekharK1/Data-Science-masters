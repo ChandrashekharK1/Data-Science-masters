{
 "cells": [
  {
   "cell_type": "markdown",
   "id": "71db576c-9f80-44f6-b9ec-ccb5667b9ab5",
   "metadata": {},
   "source": [
    "Q1. What is an Exception in python? Write the difference between Exceptions and syntax errors\n"
   ]
  },
  {
   "cell_type": "markdown",
   "id": "0c64897b-d049-4529-a49d-5560f4acfd96",
   "metadata": {},
   "source": [
    "ANS:"
   ]
  },
  {
   "cell_type": "markdown",
   "id": "8b5319e3-33b7-4f7d-8598-1a2d0eddf92b",
   "metadata": {},
   "source": [
    "An exception is a Python object that represents an error.\n",
    "An syntax error is an issue in a program that prevents the program from completing its task. In comparison, an exception is a condition that interrupts the normal flow of the program.\n"
   ]
  },
  {
   "cell_type": "markdown",
   "id": "afe5924b-ad96-4500-9ce9-6a4b51f0531d",
   "metadata": {},
   "source": [
    "Q2. What happens when an exception is not handled? Explain with an example"
   ]
  },
  {
   "cell_type": "markdown",
   "id": "47ce797b-f9b2-48c5-8a71-df391b91d7ed",
   "metadata": {},
   "source": [
    "ANS:"
   ]
  },
  {
   "cell_type": "markdown",
   "id": "e022f7a0-3b27-480c-b8ba-ec618cab0f85",
   "metadata": {},
   "source": [
    "When an exception occurred, if you don't handle it, the program terminates abruptly and the code past the line that caused the exception will not get executed. and it gives error in given code"
   ]
  },
  {
   "cell_type": "code",
   "execution_count": 3,
   "id": "ec952aa5-c598-4f28-ab94-00225e6b1af4",
   "metadata": {},
   "outputs": [
    {
     "name": "stdout",
     "output_type": "stream",
     "text": [
      "i am a boy [Errno 2] No such file or directory: 'soham.txt'\n"
     ]
    }
   ],
   "source": [
    "try:\n",
    "    f=open(\"soham.txt\",\"r\")\n",
    "except Exception as e:\n",
    "    print(\"i am a boy\",e)"
   ]
  },
  {
   "cell_type": "markdown",
   "id": "259a8cb3-2b26-4035-ba79-78cb63419543",
   "metadata": {},
   "source": [
    "Q3. Which Python statements are used to catch and handle exceptions? Explain with an example"
   ]
  },
  {
   "cell_type": "markdown",
   "id": "3607a67c-d09e-4e8e-bdca-684a7fbc0d8c",
   "metadata": {},
   "source": [
    "ANS:"
   ]
  },
  {
   "cell_type": "markdown",
   "id": "f52c314a-73e5-4ed4-b1ca-87fc05225bc5",
   "metadata": {},
   "source": [
    "try and except statements are used to catch and handle exceptions"
   ]
  },
  {
   "cell_type": "code",
   "execution_count": 5,
   "id": "45da1b0b-486e-4a73-87b7-ac26c3133895",
   "metadata": {},
   "outputs": [
    {
     "name": "stdout",
     "output_type": "stream",
     "text": [
      "i am not intrested\n"
     ]
    }
   ],
   "source": [
    "try:\n",
    "    f=open(\"shekhar.txt\",\"w\")\n",
    "    f.write(\"this is my message\")\n",
    "    \n",
    "except Exception as e:\n",
    "    print(\"i am a boy\")\n",
    "else:\n",
    "    f.close()\n",
    "    print(\"i am not intrested\")"
   ]
  },
  {
   "cell_type": "markdown",
   "id": "946b31d4-3350-433e-be53-b3ffa5407352",
   "metadata": {},
   "source": [
    "Q4. Explain with an example: a)try and else  b)finally  c)raise"
   ]
  },
  {
   "cell_type": "markdown",
   "id": "85a2fc4e-8fcb-4efd-a9fd-0a3e668e025c",
   "metadata": {},
   "source": [
    "ANS:"
   ]
  },
  {
   "cell_type": "markdown",
   "id": "446d9e85-7535-44eb-8df9-e554411a8fd9",
   "metadata": {},
   "source": [
    "a=\n",
    "try and except statements are used to catch and handle exceptions"
   ]
  },
  {
   "cell_type": "code",
   "execution_count": 7,
   "id": "66e73c2d-9d82-4a40-a26d-f7f104c8d316",
   "metadata": {},
   "outputs": [
    {
     "name": "stdout",
     "output_type": "stream",
     "text": [
      "i am a student\n"
     ]
    }
   ],
   "source": [
    "try:\n",
    "    f=open(\"shekhar.txt\",\"w\")\n",
    "    f.write(\"this is my message\")\n",
    "    \n",
    "except Exception as e:\n",
    "    print(\"i am a boy\")\n",
    "else:\n",
    "    f.close()\n",
    "    print(\"i am a student\")"
   ]
  },
  {
   "cell_type": "markdown",
   "id": "67dc7464-b7a6-4958-accf-8d6827779efe",
   "metadata": {},
   "source": [
    "b= finally,\n",
    "finally execute itself always if there is an error or not in a code"
   ]
  },
  {
   "cell_type": "code",
   "execution_count": 8,
   "id": "f71d9683-c820-406c-9ef6-366bf8230ac4",
   "metadata": {},
   "outputs": [
    {
     "name": "stdout",
     "output_type": "stream",
     "text": [
      "finally\n"
     ]
    },
    {
     "ename": "FileNotFoundError",
     "evalue": "[Errno 2] No such file or directory: 'shekhar1.txt'",
     "output_type": "error",
     "traceback": [
      "\u001b[0;31m---------------------------------------------------------------------------\u001b[0m",
      "\u001b[0;31mFileNotFoundError\u001b[0m                         Traceback (most recent call last)",
      "Cell \u001b[0;32mIn[8], line 2\u001b[0m\n\u001b[1;32m      1\u001b[0m \u001b[38;5;28;01mtry\u001b[39;00m:\n\u001b[0;32m----> 2\u001b[0m     f\u001b[38;5;241m=\u001b[39m\u001b[38;5;28;43mopen\u001b[39;49m\u001b[43m(\u001b[49m\u001b[38;5;124;43m\"\u001b[39;49m\u001b[38;5;124;43mshekhar1.txt\u001b[39;49m\u001b[38;5;124;43m\"\u001b[39;49m\u001b[43m,\u001b[49m\u001b[38;5;124;43m\"\u001b[39;49m\u001b[38;5;124;43mr\u001b[39;49m\u001b[38;5;124;43m\"\u001b[39;49m\u001b[43m)\u001b[49m      \u001b[38;5;66;03m## opening in read mode is give an error\u001b[39;00m\n\u001b[1;32m      3\u001b[0m     f\u001b[38;5;241m.\u001b[39mwrite(\u001b[38;5;124m\"\u001b[39m\u001b[38;5;124mthis is my message\u001b[39m\u001b[38;5;124m\"\u001b[39m)\n\u001b[1;32m      4\u001b[0m \u001b[38;5;28;01mfinally\u001b[39;00m:\n",
      "File \u001b[0;32m/opt/conda/lib/python3.10/site-packages/IPython/core/interactiveshell.py:282\u001b[0m, in \u001b[0;36m_modified_open\u001b[0;34m(file, *args, **kwargs)\u001b[0m\n\u001b[1;32m    275\u001b[0m \u001b[38;5;28;01mif\u001b[39;00m file \u001b[38;5;129;01min\u001b[39;00m {\u001b[38;5;241m0\u001b[39m, \u001b[38;5;241m1\u001b[39m, \u001b[38;5;241m2\u001b[39m}:\n\u001b[1;32m    276\u001b[0m     \u001b[38;5;28;01mraise\u001b[39;00m \u001b[38;5;167;01mValueError\u001b[39;00m(\n\u001b[1;32m    277\u001b[0m         \u001b[38;5;124mf\u001b[39m\u001b[38;5;124m\"\u001b[39m\u001b[38;5;124mIPython won\u001b[39m\u001b[38;5;124m'\u001b[39m\u001b[38;5;124mt let you open fd=\u001b[39m\u001b[38;5;132;01m{\u001b[39;00mfile\u001b[38;5;132;01m}\u001b[39;00m\u001b[38;5;124m by default \u001b[39m\u001b[38;5;124m\"\u001b[39m\n\u001b[1;32m    278\u001b[0m         \u001b[38;5;124m\"\u001b[39m\u001b[38;5;124mas it is likely to crash IPython. If you know what you are doing, \u001b[39m\u001b[38;5;124m\"\u001b[39m\n\u001b[1;32m    279\u001b[0m         \u001b[38;5;124m\"\u001b[39m\u001b[38;5;124myou can use builtins\u001b[39m\u001b[38;5;124m'\u001b[39m\u001b[38;5;124m open.\u001b[39m\u001b[38;5;124m\"\u001b[39m\n\u001b[1;32m    280\u001b[0m     )\n\u001b[0;32m--> 282\u001b[0m \u001b[38;5;28;01mreturn\u001b[39;00m \u001b[43mio_open\u001b[49m\u001b[43m(\u001b[49m\u001b[43mfile\u001b[49m\u001b[43m,\u001b[49m\u001b[43m \u001b[49m\u001b[38;5;241;43m*\u001b[39;49m\u001b[43margs\u001b[49m\u001b[43m,\u001b[49m\u001b[43m \u001b[49m\u001b[38;5;241;43m*\u001b[39;49m\u001b[38;5;241;43m*\u001b[39;49m\u001b[43mkwargs\u001b[49m\u001b[43m)\u001b[49m\n",
      "\u001b[0;31mFileNotFoundError\u001b[0m: [Errno 2] No such file or directory: 'shekhar1.txt'"
     ]
    }
   ],
   "source": [
    "try:\n",
    "    f=open(\"shekhar1.txt\",\"r\")      \n",
    "    f.write(\"this is my message\")\n",
    "finally:\n",
    "    print(\"finally\") "
   ]
  },
  {
   "cell_type": "code",
   "execution_count": 9,
   "id": "e30a906e-1711-4536-9170-12c40fec07f6",
   "metadata": {},
   "outputs": [
    {
     "name": "stdout",
     "output_type": "stream",
     "text": [
      "i am not intrested\n",
      "finally\n"
     ]
    }
   ],
   "source": [
    "try:\n",
    "    f=open(\"shekhar.txt\",\"w\")\n",
    "    f.write(\"this is my message\")\n",
    "    \n",
    "except Exception as e:\n",
    "    print(\"i am a boy\")\n",
    "else:\n",
    "    f.close()\n",
    "    print(\"i am not intrested\")\n",
    "finally:\n",
    "    print(\"finally\")"
   ]
  },
  {
   "cell_type": "markdown",
   "id": "db21fb16-521a-4a1c-a5ad-009b2f6e1b7a",
   "metadata": {},
   "source": [
    "c=raise,\n",
    "raise allows you to throw an exception at any time. "
   ]
  },
  {
   "cell_type": "code",
   "execution_count": 10,
   "id": "d352d793-fbca-4a21-b94e-0b670f4bc1fe",
   "metadata": {},
   "outputs": [
    {
     "ename": "Exception",
     "evalue": "Sorry, no numbers below zero",
     "output_type": "error",
     "traceback": [
      "\u001b[0;31m---------------------------------------------------------------------------\u001b[0m",
      "\u001b[0;31mException\u001b[0m                                 Traceback (most recent call last)",
      "Cell \u001b[0;32mIn[10], line 4\u001b[0m\n\u001b[1;32m      1\u001b[0m x \u001b[38;5;241m=\u001b[39m \u001b[38;5;241m-\u001b[39m\u001b[38;5;241m1\u001b[39m\n\u001b[1;32m      3\u001b[0m \u001b[38;5;28;01mif\u001b[39;00m x \u001b[38;5;241m<\u001b[39m \u001b[38;5;241m0\u001b[39m:\n\u001b[0;32m----> 4\u001b[0m     \u001b[38;5;28;01mraise\u001b[39;00m \u001b[38;5;167;01mException\u001b[39;00m(\u001b[38;5;124m\"\u001b[39m\u001b[38;5;124mSorry, no numbers below zero\u001b[39m\u001b[38;5;124m\"\u001b[39m)\n",
      "\u001b[0;31mException\u001b[0m: Sorry, no numbers below zero"
     ]
    }
   ],
   "source": [
    "x = -1\n",
    "\n",
    "if x < 0:\n",
    "    raise Exception(\"Sorry, no numbers below zero\")"
   ]
  },
  {
   "cell_type": "markdown",
   "id": "53efeebe-62b4-4a67-8ea7-40577e069c2d",
   "metadata": {},
   "source": [
    "Q5. What are Custom Exceptions in python? What do we need Custom Exceptions? Explain with an example"
   ]
  },
  {
   "cell_type": "markdown",
   "id": "5610a69e-e7e5-46b9-b9c0-5fffcaf7ba19",
   "metadata": {},
   "source": [
    "ANS:"
   ]
  },
  {
   "cell_type": "markdown",
   "id": "ade0e770-d42d-4dc2-a2b4-58474dbae1c3",
   "metadata": {},
   "source": [
    "we can customize any code by using classes and functions if there is an inappropriate input"
   ]
  },
  {
   "cell_type": "code",
   "execution_count": 11,
   "id": "7cdbdfef-3d64-4db4-be4e-9180e3ea5a45",
   "metadata": {},
   "outputs": [
    {
     "name": "stdin",
     "output_type": "stream",
     "text": [
      "enter your age -888\n"
     ]
    }
   ],
   "source": [
    "age=int(input(\"enter your age\"))"
   ]
  },
  {
   "cell_type": "code",
   "execution_count": 12,
   "id": "3b01061c-8297-45fa-a430-5a033becd9d0",
   "metadata": {},
   "outputs": [],
   "source": [
    "class validateage(Exception):\n",
    "    def  __init__(self,msg):\n",
    "        self.msg=msg"
   ]
  },
  {
   "cell_type": "code",
   "execution_count": 13,
   "id": "500153a1-480f-40c2-9383-cb497ad496c5",
   "metadata": {},
   "outputs": [],
   "source": [
    "    def validate_age(age):\n",
    "        if age<0:\n",
    "            raise validateage(\"age should not be in negetive\")\n",
    "        elif age>200:\n",
    "            raise validateage(\"age cant be too high\")\n",
    "        else:\n",
    "            print(\"age is valid\")"
   ]
  },
  {
   "cell_type": "code",
   "execution_count": 14,
   "id": "5b5f3781-3481-4db8-8c46-93d96b27b977",
   "metadata": {},
   "outputs": [
    {
     "name": "stdin",
     "output_type": "stream",
     "text": [
      "enter your age -888\n"
     ]
    },
    {
     "name": "stdout",
     "output_type": "stream",
     "text": [
      "age should not be in negetive\n"
     ]
    }
   ],
   "source": [
    "try:\n",
    "    age=int(input(\"enter your age\"))\n",
    "    validate_age(age)\n",
    "except validateage as e:\n",
    "    print(e)"
   ]
  },
  {
   "cell_type": "code",
   "execution_count": 15,
   "id": "3fda97aa-ae44-437a-87af-a37965d2bfe1",
   "metadata": {},
   "outputs": [
    {
     "name": "stdin",
     "output_type": "stream",
     "text": [
      "enter your age 99999\n"
     ]
    },
    {
     "name": "stdout",
     "output_type": "stream",
     "text": [
      "age cant be too high\n"
     ]
    }
   ],
   "source": [
    "try:\n",
    "    age=int(input(\"enter your age\"))\n",
    "    validate_age(age)\n",
    "except validateage as e:\n",
    "    print(e)"
   ]
  },
  {
   "cell_type": "code",
   "execution_count": 16,
   "id": "07025e60-115b-4385-8662-85bc9b99b8f1",
   "metadata": {},
   "outputs": [
    {
     "name": "stdin",
     "output_type": "stream",
     "text": [
      "enter your age 56\n"
     ]
    },
    {
     "name": "stdout",
     "output_type": "stream",
     "text": [
      "age is valid\n"
     ]
    }
   ],
   "source": [
    "try:\n",
    "    age=int(input(\"enter your age\"))\n",
    "    validate_age(age)\n",
    "except validateage as e:\n",
    "    print(e)"
   ]
  },
  {
   "cell_type": "markdown",
   "id": "b9942b4a-b99a-42bb-b1d9-da2c2b1c61da",
   "metadata": {},
   "source": [
    "Q6. Create custom exception ,class. Use this class to handle an exception."
   ]
  },
  {
   "cell_type": "markdown",
   "id": "736ef34b-4e5f-4e9d-8b14-03df2b2a82f8",
   "metadata": {},
   "source": [
    "ANS:"
   ]
  },
  {
   "cell_type": "code",
   "execution_count": 17,
   "id": "07f2f9c9-bf25-4deb-9e6b-66f891b9295b",
   "metadata": {},
   "outputs": [
    {
     "name": "stdin",
     "output_type": "stream",
     "text": [
      "Enter your marks -56\n"
     ]
    }
   ],
   "source": [
    "marks=int(input(\"Enter your marks\"))"
   ]
  },
  {
   "cell_type": "code",
   "execution_count": 18,
   "id": "28cbc965-6a08-427f-af1d-131730b895ab",
   "metadata": {},
   "outputs": [],
   "source": [
    "class validatemarks(Exception):\n",
    "    def __init__(self,msg):\n",
    "        self.msg=msg"
   ]
  },
  {
   "cell_type": "code",
   "execution_count": 19,
   "id": "2ad062ce-0623-4f8b-b053-c5711bbc0b68",
   "metadata": {},
   "outputs": [],
   "source": [
    "def validate_marks(marks):\n",
    "    if marks<0:\n",
    "        raise validatemarks(\"marks cant be in negetive\")\n",
    "    elif marks>100:\n",
    "        raise validatemarks(\"marks cant be greater than 100\")\n",
    "    else:\n",
    "        print(\"valid marks\")"
   ]
  },
  {
   "cell_type": "code",
   "execution_count": null,
   "id": "01109792-610f-4032-a5ce-3d90a9dae0e5",
   "metadata": {},
   "outputs": [],
   "source": []
  }
 ],
 "metadata": {
  "kernelspec": {
   "display_name": "Python 3 (ipykernel)",
   "language": "python",
   "name": "python3"
  },
  "language_info": {
   "codemirror_mode": {
    "name": "ipython",
    "version": 3
   },
   "file_extension": ".py",
   "mimetype": "text/x-python",
   "name": "python",
   "nbconvert_exporter": "python",
   "pygments_lexer": "ipython3",
   "version": "3.10.8"
  }
 },
 "nbformat": 4,
 "nbformat_minor": 5
}
