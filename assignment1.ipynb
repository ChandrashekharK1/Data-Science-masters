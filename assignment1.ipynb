{
 "cells": [
  {
   "cell_type": "markdown",
   "id": "ff8c3147-4f6e-4552-b4b7-4cfdf3523bc1",
   "metadata": {},
   "source": [
    "Q1. What are the characteristics of tuple? is tuple immutable?"
   ]
  },
  {
   "cell_type": "markdown",
   "id": "5fb59321-78bc-426c-85bd-4300f6ad032d",
   "metadata": {},
   "source": [
    "Ans:\n",
    "1. tuples can indexed \n",
    "2. tuples contain duplicates\n",
    "3. can be written in list form\n",
    "4. tuple use paranthesis()\n",
    "\n",
    "tuples are immuatable and not allow any changes to particular indexes"
   ]
  },
  {
   "cell_type": "markdown",
   "id": "7ff4c769-89d8-4f62-a9fa-81c417e390e9",
   "metadata": {},
   "source": [
    "Q2. what are the two tuple methods in python?give an example of each method give a reason why tuples have only two inbuilt methods as compared to lists"
   ]
  },
  {
   "cell_type": "code",
   "execution_count": null,
   "id": "f7a2cfd7-1465-497e-be6f-2a4891c9b1b7",
   "metadata": {},
   "outputs": [],
   "source": [
    "Ans:\n",
    "    there are only two inbuilt methods in tuple count and index"
   ]
  },
  {
   "cell_type": "code",
   "execution_count": 7,
   "id": "8823ea63-980f-4caa-a940-1a2ebf2c0e11",
   "metadata": {},
   "outputs": [],
   "source": [
    "t=(1,2,3,\"k\",\"a\",\"a\")"
   ]
  },
  {
   "cell_type": "code",
   "execution_count": 8,
   "id": "75220674-1652-4283-90f1-8ed29c7cd08d",
   "metadata": {},
   "outputs": [
    {
     "data": {
      "text/plain": [
       "(1, 2, 3, 'k', 'a', 'a')"
      ]
     },
     "execution_count": 8,
     "metadata": {},
     "output_type": "execute_result"
    }
   ],
   "source": [
    "t"
   ]
  },
  {
   "cell_type": "code",
   "execution_count": 9,
   "id": "42f51136-def1-43c0-a747-5ed3ec64e5bd",
   "metadata": {},
   "outputs": [
    {
     "data": {
      "text/plain": [
       "1"
      ]
     },
     "execution_count": 9,
     "metadata": {},
     "output_type": "execute_result"
    }
   ],
   "source": [
    "t.count(1)"
   ]
  },
  {
   "cell_type": "code",
   "execution_count": 10,
   "id": "009123b9-2627-4edf-a958-6fb14991269d",
   "metadata": {},
   "outputs": [
    {
     "data": {
      "text/plain": [
       "2"
      ]
     },
     "execution_count": 10,
     "metadata": {},
     "output_type": "execute_result"
    }
   ],
   "source": [
    "t.count(\"a\")"
   ]
  },
  {
   "cell_type": "code",
   "execution_count": 12,
   "id": "9948c634-8cee-4a65-92f2-38c50ca050e3",
   "metadata": {},
   "outputs": [
    {
     "data": {
      "text/plain": [
       "0"
      ]
     },
     "execution_count": 12,
     "metadata": {},
     "output_type": "execute_result"
    }
   ],
   "source": [
    "t.index(1)"
   ]
  },
  {
   "cell_type": "code",
   "execution_count": 13,
   "id": "f397d358-4d03-41b5-a271-f66159cb59b2",
   "metadata": {},
   "outputs": [
    {
     "data": {
      "text/plain": [
       "4"
      ]
     },
     "execution_count": 13,
     "metadata": {},
     "output_type": "execute_result"
    }
   ],
   "source": [
    "t.index(\"a\")"
   ]
  },
  {
   "cell_type": "markdown",
   "id": "3e7c22a4-7116-4b93-a783-b954a6ab3057",
   "metadata": {},
   "source": [
    "tuples are immutable so tuple limited to perform sevaral operation like list"
   ]
  },
  {
   "cell_type": "markdown",
   "id": "e0afc69d-262f-40be-994e-d251b38ccce5",
   "metadata": {},
   "source": [
    "Q3. which collection data type in python do not allow duplicate item?write a code using a set to remove duplicates from given lists\n",
    "\n",
    "list=[1,1,1,2,1,3,1,4,2,1,2,2,2,3,2,4,3,1,3,2,3,3,3,4,4,1,4,2,4,3,4,4]"
   ]
  },
  {
   "cell_type": "markdown",
   "id": "ab589afc-0ab1-4335-acbd-8178b8a0c020",
   "metadata": {},
   "source": [
    "Ans:\n",
    "set data type not allow duplicate item"
   ]
  },
  {
   "cell_type": "code",
   "execution_count": 23,
   "id": "395fab6a-7879-4034-b65b-0883f2980270",
   "metadata": {},
   "outputs": [],
   "source": [
    "s={1,1,1,2,1,3,1,4,2,1,2,2,2,3,2,4,3,1,3,2,3,3,3,4,4,1,4,2,4,3,4,4}"
   ]
  },
  {
   "cell_type": "code",
   "execution_count": 24,
   "id": "b40c13b0-da77-48d9-91c6-779df5737ae5",
   "metadata": {},
   "outputs": [
    {
     "data": {
      "text/plain": [
       "{1, 2, 3, 4}"
      ]
     },
     "execution_count": 24,
     "metadata": {},
     "output_type": "execute_result"
    }
   ],
   "source": [
    "s"
   ]
  },
  {
   "cell_type": "markdown",
   "id": "cc050bc3-59cc-4adc-b5e5-be00c9f97bc0",
   "metadata": {},
   "source": [
    "Q4. explain the difference between union() and update() method for a set give an example of each method "
   ]
  },
  {
   "cell_type": "markdown",
   "id": "a1e680c3-643f-4696-9e4b-ee4dfa06ae46",
   "metadata": {},
   "source": [
    "Ans:\n",
    "update() adds all elements to a set union() creates new set"
   ]
  },
  {
   "cell_type": "code",
   "execution_count": 28,
   "id": "06c5d804-2f78-4323-bf71-c300b121d4d2",
   "metadata": {},
   "outputs": [],
   "source": [
    "s1={1,2,3,4,5,6,7}\n",
    "s2={10,20,30,40}\n"
   ]
  },
  {
   "cell_type": "code",
   "execution_count": 29,
   "id": "5163af12-df11-4844-8b9c-97f01c68995d",
   "metadata": {},
   "outputs": [
    {
     "data": {
      "text/plain": [
       "{1, 2, 3, 4, 5, 6, 7, 10, 20, 30, 40}"
      ]
     },
     "execution_count": 29,
     "metadata": {},
     "output_type": "execute_result"
    }
   ],
   "source": [
    "s.union(s1,s2)"
   ]
  },
  {
   "cell_type": "code",
   "execution_count": 32,
   "id": "0de8c612-cdb1-4370-9174-e7c243352dcc",
   "metadata": {},
   "outputs": [],
   "source": [
    "s1.update(s2)"
   ]
  },
  {
   "cell_type": "code",
   "execution_count": 33,
   "id": "62688433-d65a-4892-966d-89811a468c4b",
   "metadata": {},
   "outputs": [
    {
     "data": {
      "text/plain": [
       "{1, 2, 3, 4, 5, 6, 7, 10, 20, 30, 40}"
      ]
     },
     "execution_count": 33,
     "metadata": {},
     "output_type": "execute_result"
    }
   ],
   "source": [
    "s1"
   ]
  },
  {
   "cell_type": "code",
   "execution_count": 34,
   "id": "76e94957-3aed-42bf-973b-2406c6ed4234",
   "metadata": {},
   "outputs": [],
   "source": [
    "s2.update(s1)"
   ]
  },
  {
   "cell_type": "code",
   "execution_count": 35,
   "id": "0a9fdef9-8f2c-4dbb-bbc5-00b3fd7cdd86",
   "metadata": {},
   "outputs": [
    {
     "data": {
      "text/plain": [
       "{1, 2, 3, 4, 5, 6, 7, 10, 20, 30, 40}"
      ]
     },
     "execution_count": 35,
     "metadata": {},
     "output_type": "execute_result"
    }
   ],
   "source": [
    "s2"
   ]
  },
  {
   "cell_type": "code",
   "execution_count": 37,
   "id": "94471c9e-e411-42da-8650-464b7f4d7827",
   "metadata": {},
   "outputs": [],
   "source": [
    "s2={10,20,30,40,50}"
   ]
  },
  {
   "cell_type": "code",
   "execution_count": 38,
   "id": "b643def5-cad4-423c-bc52-a669d5953940",
   "metadata": {},
   "outputs": [],
   "source": [
    "s1.update(s2)"
   ]
  },
  {
   "cell_type": "code",
   "execution_count": 39,
   "id": "28bdf704-462c-4109-8288-5fa666824c18",
   "metadata": {},
   "outputs": [
    {
     "data": {
      "text/plain": [
       "{1, 2, 3, 4, 5, 6, 7, 10, 20, 30, 40, 50}"
      ]
     },
     "execution_count": 39,
     "metadata": {},
     "output_type": "execute_result"
    }
   ],
   "source": [
    "s1"
   ]
  },
  {
   "cell_type": "code",
   "execution_count": 40,
   "id": "d9e9d7c2-d973-4879-a671-364d986e0e21",
   "metadata": {},
   "outputs": [
    {
     "data": {
      "text/plain": [
       "{1, 2, 3, 4, 5, 6, 7, 10, 20, 30, 40, 50}"
      ]
     },
     "execution_count": 40,
     "metadata": {},
     "output_type": "execute_result"
    }
   ],
   "source": [
    "s.union(s1,s2)"
   ]
  },
  {
   "cell_type": "markdown",
   "id": "8a99de8f-ec3b-4cb4-9485-09eeaf8f2237",
   "metadata": {},
   "source": [
    "Q5. What is Dictionary? give an example.also state wheather Dictionary is orderd or unorderd"
   ]
  },
  {
   "cell_type": "markdown",
   "id": "0d4840ba-5b0b-4b04-bf0c-a10d17635b94",
   "metadata": {},
   "source": [
    "Ans:\n",
    "    Dictionary is a collection of Keys and Values elements"
   ]
  },
  {
   "cell_type": "code",
   "execution_count": 41,
   "id": "85020e3f-1c97-4341-84e8-e2308a8de231",
   "metadata": {},
   "outputs": [],
   "source": [
    "d={\"name\":\"shekhar\",1:2,\"age\":26}"
   ]
  },
  {
   "cell_type": "markdown",
   "id": "95822376-dcd3-4c0c-a954-575c273591ff",
   "metadata": {},
   "source": [
    "d"
   ]
  },
  {
   "cell_type": "code",
   "execution_count": 43,
   "id": "ed1b3521-2575-4221-be5b-c9be27525a69",
   "metadata": {},
   "outputs": [],
   "source": [
    "d[\"name\"]=\"sk\""
   ]
  },
  {
   "cell_type": "code",
   "execution_count": 44,
   "id": "4a77ea3b-4383-444c-afcb-70a5582d65b5",
   "metadata": {},
   "outputs": [
    {
     "data": {
      "text/plain": [
       "{'name': 'sk', 1: 2, 'age': 26}"
      ]
     },
     "execution_count": 44,
     "metadata": {},
     "output_type": "execute_result"
    }
   ],
   "source": [
    "d"
   ]
  },
  {
   "cell_type": "markdown",
   "id": "d01ff09d-d175-43f1-a0d5-29f06876b0b2",
   "metadata": {},
   "source": [
    "hence Dictionary is orderd"
   ]
  },
  {
   "cell_type": "markdown",
   "id": "d463fcef-8424-4b2e-b6b8-a8526baa787b",
   "metadata": {},
   "source": [
    "Q6. can we create nested Dictionary?give an example with one level nested Dictionary"
   ]
  },
  {
   "cell_type": "markdown",
   "id": "84e36feb-1977-4ab3-a3ba-ea04f2b94294",
   "metadata": {},
   "source": [
    "d10={\"key\":{\"sk\":\"shekhar\",\"dm\":\"kk\",2:5,4:\"tn\"}}"
   ]
  },
  {
   "cell_type": "code",
   "execution_count": 46,
   "id": "ea8e74e7-c29d-4dfb-a951-641b0b3ed4a7",
   "metadata": {},
   "outputs": [
    {
     "data": {
      "text/plain": [
       "{'key': {'sk': 'shekhar', 'dm': 'kk', 2: 5, 4: 'tn'}}"
      ]
     },
     "execution_count": 46,
     "metadata": {},
     "output_type": "execute_result"
    }
   ],
   "source": [
    "d10"
   ]
  },
  {
   "cell_type": "markdown",
   "id": "6a9a14b8-93be-4fc7-bf51-6825f2c16bc9",
   "metadata": {},
   "source": [
    "Q7. using setdefault() method,create key named topics in the given Dictionary and also add the value of the key as this list[\"python\",\"Machine learning\",\"deep learning\"]"
   ]
  },
  {
   "cell_type": "code",
   "execution_count": 128,
   "id": "029e8313-ba16-4fe1-a53c-c9e03db0edce",
   "metadata": {},
   "outputs": [],
   "source": [
    "d={\"python\",\"Machine learning\",\"deep learning\"}\n",
    "print\n"
   ]
  },
  {
   "cell_type": "code",
   "execution_count": 129,
   "id": "0ed9a784-7ef5-45ab-bcd6-7d735acc06b7",
   "metadata": {},
   "outputs": [
    {
     "data": {
      "text/plain": [
       "{'Machine learning', 'deep learning', 'python'}"
      ]
     },
     "execution_count": 129,
     "metadata": {},
     "output_type": "execute_result"
    }
   ],
   "source": []
  },
  {
   "cell_type": "code",
   "execution_count": 135,
   "id": "d77319b9-68a3-48e4-83dd-bfa825d34cb5",
   "metadata": {},
   "outputs": [
    {
     "ename": "AttributeError",
     "evalue": "'set' object has no attribute 'setdefualt'",
     "output_type": "error",
     "traceback": [
      "\u001b[0;31m---------------------------------------------------------------------------\u001b[0m",
      "\u001b[0;31mAttributeError\u001b[0m                            Traceback (most recent call last)",
      "Cell \u001b[0;32mIn[135], line 1\u001b[0m\n\u001b[0;32m----> 1\u001b[0m \u001b[43md\u001b[49m\u001b[38;5;241;43m.\u001b[39;49m\u001b[43msetdefualt\u001b[49m((\u001b[38;5;124m\"\u001b[39m\u001b[38;5;124mtopic\u001b[39m\u001b[38;5;124m\"\u001b[39m),(\u001b[38;5;124m\"\u001b[39m\u001b[38;5;124mpython\u001b[39m\u001b[38;5;124m\"\u001b[39m,\u001b[38;5;124m\"\u001b[39m\u001b[38;5;124mMachine learning\u001b[39m\u001b[38;5;124m\"\u001b[39m,\u001b[38;5;124m\"\u001b[39m\u001b[38;5;124mdeep learning\u001b[39m\u001b[38;5;124m\"\u001b[39m))\n",
      "\u001b[0;31mAttributeError\u001b[0m: 'set' object has no attribute 'setdefualt'"
     ]
    }
   ],
   "source": [
    "d.setdefualt((\"topic\"),(\"python\",\"Machine learning\",\"deep learning\"))"
   ]
  },
  {
   "cell_type": "code",
   "execution_count": null,
   "id": "2a2bd5c1-a636-4cda-ac4c-3b0007b718a2",
   "metadata": {},
   "outputs": [],
   "source": []
  },
  {
   "cell_type": "markdown",
   "id": "e13348c5-680d-4fa6-8573-ac0fd3cabed3",
   "metadata": {},
   "source": [
    "Q8. What are the three view objects in dictionaries? Use the three in-built methods in python to display\n",
    "these three view objects for the given dictionary.\n",
    "dict1 = {'Sport': 'Cricket' , 'Teams': ['India', 'Australia', 'England', 'South Africa', 'Sri Lanka', 'New Zealand']}"
   ]
  },
  {
   "cell_type": "markdown",
   "id": "f8b866ed-c91b-4fb3-b673-e3ec990c41c9",
   "metadata": {},
   "source": [
    "Ans:\n",
    "    three view objects are keys,values and items"
   ]
  },
  {
   "cell_type": "code",
   "execution_count": 114,
   "id": "6e12e94f-424c-4178-96cb-fff7929364a0",
   "metadata": {},
   "outputs": [],
   "source": [
    "dict1 = {'Sport': 'Cricket' , 'Teams': ['India', 'Australia', 'England', 'South Africa', 'Sri Lanka', 'New Zealand']}"
   ]
  },
  {
   "cell_type": "code",
   "execution_count": 115,
   "id": "6e571d12-3582-4270-9621-7902496701e7",
   "metadata": {},
   "outputs": [
    {
     "data": {
      "text/plain": [
       "{'Sport': 'Cricket',\n",
       " 'Teams': ['India',\n",
       "  'Australia',\n",
       "  'England',\n",
       "  'South Africa',\n",
       "  'Sri Lanka',\n",
       "  'New Zealand']}"
      ]
     },
     "execution_count": 115,
     "metadata": {},
     "output_type": "execute_result"
    }
   ],
   "source": [
    "dict1"
   ]
  },
  {
   "cell_type": "code",
   "execution_count": 116,
   "id": "6ae0900a-6cfc-4c76-92c1-fcea0438b8af",
   "metadata": {},
   "outputs": [
    {
     "data": {
      "text/plain": [
       "dict_keys(['Sport', 'Teams'])"
      ]
     },
     "execution_count": 116,
     "metadata": {},
     "output_type": "execute_result"
    }
   ],
   "source": [
    "dict1.keys()"
   ]
  },
  {
   "cell_type": "code",
   "execution_count": 117,
   "id": "3ee251d3-f0f7-4f3c-abf2-af487cbf59ea",
   "metadata": {},
   "outputs": [
    {
     "data": {
      "text/plain": [
       "dict_values(['Cricket', ['India', 'Australia', 'England', 'South Africa', 'Sri Lanka', 'New Zealand']])"
      ]
     },
     "execution_count": 117,
     "metadata": {},
     "output_type": "execute_result"
    }
   ],
   "source": [
    "dict1.values()"
   ]
  },
  {
   "cell_type": "code",
   "execution_count": 118,
   "id": "f871ab8c-82d8-4c50-85e6-fd20c55f121c",
   "metadata": {},
   "outputs": [
    {
     "data": {
      "text/plain": [
       "dict_items([('Sport', 'Cricket'), ('Teams', ['India', 'Australia', 'England', 'South Africa', 'Sri Lanka', 'New Zealand'])])"
      ]
     },
     "execution_count": 118,
     "metadata": {},
     "output_type": "execute_result"
    }
   ],
   "source": [
    "dict1.items()"
   ]
  },
  {
   "cell_type": "code",
   "execution_count": null,
   "id": "a404a52b-6323-4322-b7b0-19130ce12635",
   "metadata": {},
   "outputs": [],
   "source": []
  }
 ],
 "metadata": {
  "kernelspec": {
   "display_name": "Python 3 (ipykernel)",
   "language": "python",
   "name": "python3"
  },
  "language_info": {
   "codemirror_mode": {
    "name": "ipython",
    "version": 3
   },
   "file_extension": ".py",
   "mimetype": "text/x-python",
   "name": "python",
   "nbconvert_exporter": "python",
   "pygments_lexer": "ipython3",
   "version": "3.10.8"
  }
 },
 "nbformat": 4,
 "nbformat_minor": 5
}
