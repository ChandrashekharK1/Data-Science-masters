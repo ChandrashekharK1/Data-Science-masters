{
 "cells": [
  {
   "cell_type": "markdown",
   "id": "90d3dc22-571c-4712-9b65-e0bbfa9139bf",
   "metadata": {},
   "source": [
    "Q1. Explain Class and Object with respect to Object-Oriented Programming. Give a suitable example."
   ]
  },
  {
   "cell_type": "markdown",
   "id": "5b7ce4e4-8365-4e0d-b03f-17e4dbffc72a",
   "metadata": {},
   "source": [
    "ANS:"
   ]
  },
  {
   "cell_type": "markdown",
   "id": "61f3748b-df79-407a-b54a-ea5afe1b2113",
   "metadata": {},
   "source": [
    "class are the user defined data types which acts as a blueprint for objects,method\n",
    "and objects are instances of class with data objects can correspond to real world objects"
   ]
  },
  {
   "cell_type": "markdown",
   "id": "b525e50c-b02e-4cdd-ae4b-618b4e40ec7c",
   "metadata": {},
   "source": [
    "example:"
   ]
  },
  {
   "cell_type": "code",
   "execution_count": 2,
   "id": "21bb64ca-ca6e-43ec-aee8-c35731ba62ad",
   "metadata": {},
   "outputs": [],
   "source": [
    "class test:\n",
    "    def message_is(self):\n",
    "        print(\"welcome home\")"
   ]
  },
  {
   "cell_type": "code",
   "execution_count": 3,
   "id": "41ed461a-eb83-4df0-ac38-f1377ac6c0a6",
   "metadata": {},
   "outputs": [],
   "source": [
    "me=test()"
   ]
  },
  {
   "cell_type": "code",
   "execution_count": 5,
   "id": "fad0728a-482e-4e8c-9191-f6db2e959013",
   "metadata": {},
   "outputs": [
    {
     "name": "stdout",
     "output_type": "stream",
     "text": [
      "welcome home\n"
     ]
    }
   ],
   "source": [
    "me.message_is()"
   ]
  },
  {
   "cell_type": "markdown",
   "id": "9de5b31a-7ce4-4735-ba0a-46d3079db84d",
   "metadata": {},
   "source": [
    "Q2. Name the four pillars of OOPs."
   ]
  },
  {
   "cell_type": "markdown",
   "id": "8e2bea2a-3bf9-4ad4-8305-0f79b6ba835e",
   "metadata": {},
   "source": [
    "ANS:"
   ]
  },
  {
   "cell_type": "markdown",
   "id": "06a238d5-264a-45ed-aa13-726c14829269",
   "metadata": {},
   "source": [
    "1. Abstraction.  (complex to simple form)\n",
    "2. Encapsulation.(keep states and logic inernal)\n",
    "3. Inheritance.  (classes with parent classes,child classes will inherit the behaviour of parent classes)\n",
    "4. Polymorphism. (same method on different objects)"
   ]
  },
  {
   "cell_type": "markdown",
   "id": "54d95c61-a492-43a8-bf2c-2e5d8081a850",
   "metadata": {},
   "source": [
    "Q3. Explain why the __init__() function is used. Give a suitable example."
   ]
  },
  {
   "cell_type": "markdown",
   "id": "2bff382e-f2c9-48f6-b7c3-24d6d60500f9",
   "metadata": {},
   "source": [
    "ANS:"
   ]
  },
  {
   "cell_type": "markdown",
   "id": "ea8dcd33-4c59-461d-92ff-d12b8e6d73a6",
   "metadata": {},
   "source": [
    "__init__ or init() function is one of the reserved methods in Python. In object oriented programming, it is known as a constructor. The __init__ method can be called when an object is created from the class, and access is required to initialize the attributes of the class"
   ]
  },
  {
   "cell_type": "markdown",
   "id": "6adcff96-acbb-436b-87e1-f883f0b623a4",
   "metadata": {},
   "source": [
    "example:"
   ]
  },
  {
   "cell_type": "code",
   "execution_count": 12,
   "id": "1e3b5f54-ee7f-44bb-bc0c-9d6b67f5ef02",
   "metadata": {},
   "outputs": [],
   "source": [
    "class test:\n",
    "    def __init__(self,phone_number,email_id,student_id):\n",
    "        self.phone_number=phone_number\n",
    "        self.email_id=email_id\n",
    "        self.student_id=student_id\n",
    "        \n",
    "    def give_student_information(self):\n",
    "        return self.phone_number,self.email_id,self.student_id"
   ]
  },
  {
   "cell_type": "code",
   "execution_count": 15,
   "id": "792922d8-16f2-4850-beaf-b6d94f79441c",
   "metadata": {},
   "outputs": [],
   "source": [
    "shekhar=test(11223344,\"sk@gmail.com\",101)"
   ]
  },
  {
   "cell_type": "code",
   "execution_count": 16,
   "id": "ba8cab35-ec12-484c-9795-68e90ff18f8a",
   "metadata": {},
   "outputs": [
    {
     "data": {
      "text/plain": [
       "(11223344, 'sk@gmail.com', 101)"
      ]
     },
     "execution_count": 16,
     "metadata": {},
     "output_type": "execute_result"
    }
   ],
   "source": [
    "shekhar.give_student_information()"
   ]
  },
  {
   "cell_type": "code",
   "execution_count": 17,
   "id": "45f038d7-4e7d-46de-a4a9-919b33fc3a45",
   "metadata": {},
   "outputs": [
    {
     "data": {
      "text/plain": [
       "11223344"
      ]
     },
     "execution_count": 17,
     "metadata": {},
     "output_type": "execute_result"
    }
   ],
   "source": [
    "shekhar.phone_number"
   ]
  },
  {
   "cell_type": "code",
   "execution_count": 18,
   "id": "55c553be-8250-400d-b601-41c31667b883",
   "metadata": {},
   "outputs": [
    {
     "data": {
      "text/plain": [
       "'sk@gmail.com'"
      ]
     },
     "execution_count": 18,
     "metadata": {},
     "output_type": "execute_result"
    }
   ],
   "source": [
    "shekhar.email_id"
   ]
  },
  {
   "cell_type": "code",
   "execution_count": 19,
   "id": "ef14723c-062b-494c-bef6-585306646b8f",
   "metadata": {},
   "outputs": [
    {
     "data": {
      "text/plain": [
       "101"
      ]
     },
     "execution_count": 19,
     "metadata": {},
     "output_type": "execute_result"
    }
   ],
   "source": [
    "shekhar.student_id"
   ]
  },
  {
   "cell_type": "markdown",
   "id": "d62e5fd1-7ba8-4af0-83b6-874772fd6f4d",
   "metadata": {},
   "source": [
    "Q4. Why self is used in OOPs?"
   ]
  },
  {
   "cell_type": "markdown",
   "id": "23332437-d5c8-4f35-8c3e-4c6929fbf08d",
   "metadata": {},
   "source": [
    "ANS:"
   ]
  },
  {
   "cell_type": "markdown",
   "id": "4647b5d1-c0e6-42b8-bf99-cd51912c9f59",
   "metadata": {},
   "source": [
    "self is nothing but a refernce,pointer which returns data we can use anything as a pointer name it is bounded to the the function"
   ]
  },
  {
   "cell_type": "markdown",
   "id": "ae62edce-f07c-47de-9932-fdd27f36e243",
   "metadata": {},
   "source": [
    "Q5. What is inheritance? Give an example for each type of inheritance."
   ]
  },
  {
   "cell_type": "markdown",
   "id": "e053581c-000d-4042-9319-6ac3e9e01910",
   "metadata": {},
   "source": [
    "ANS:"
   ]
  },
  {
   "cell_type": "markdown",
   "id": "88b3a131-194e-47b9-bac5-759a4f5f570a",
   "metadata": {},
   "source": [
    "Inheritance is a mechanism in which one class acquires the property of another class. For example, a child inherits the traits of his/her parents. With inheritance, we can reuse the fields and methods of the existing class"
   ]
  },
  {
   "cell_type": "markdown",
   "id": "53ff553c-2805-49e9-9abe-7517a7c459f1",
   "metadata": {},
   "source": [
    "1. Single Inheritance:"
   ]
  },
  {
   "cell_type": "code",
   "execution_count": 1,
   "id": "8534cb8f-16d1-4b28-94e9-478e0ff9b1f4",
   "metadata": {},
   "outputs": [],
   "source": [
    "class parent:\n",
    "    def test_parent(self):\n",
    "        print(\"this is my class\")\n",
    "    "
   ]
  },
  {
   "cell_type": "code",
   "execution_count": 2,
   "id": "f1a7c0eb-df39-4fdb-b408-b473c3e31d2b",
   "metadata": {},
   "outputs": [],
   "source": [
    "class child(parent):\n",
    "    pass\n",
    "    "
   ]
  },
  {
   "cell_type": "code",
   "execution_count": 4,
   "id": "6189c845-b694-40c7-be2b-bd91a34119b4",
   "metadata": {},
   "outputs": [],
   "source": [
    "child_obj=child()"
   ]
  },
  {
   "cell_type": "code",
   "execution_count": 6,
   "id": "1c3c92ef-aa06-4064-9e93-a5e22886fd9a",
   "metadata": {},
   "outputs": [
    {
     "name": "stdout",
     "output_type": "stream",
     "text": [
      "this is my class\n"
     ]
    }
   ],
   "source": [
    "child_obj.test_parent()"
   ]
  },
  {
   "cell_type": "markdown",
   "id": "a3b6ac28-48fb-4ea6-b7d6-8b7f6441ed3e",
   "metadata": {},
   "source": [
    "2. Multilevel Inheritance"
   ]
  },
  {
   "cell_type": "code",
   "execution_count": 12,
   "id": "aab9cbe7-7aa9-409a-aaef-26771f0fbded",
   "metadata": {},
   "outputs": [],
   "source": [
    "class class1:\n",
    "    def test1(self):\n",
    "        print(\"class1\")"
   ]
  },
  {
   "cell_type": "code",
   "execution_count": 13,
   "id": "10df17cb-532e-47ba-b3a5-9dd4d1ed7d02",
   "metadata": {},
   "outputs": [],
   "source": [
    "class class2(class1):\n",
    "    def test2(self):\n",
    "        print(\"class2\")"
   ]
  },
  {
   "cell_type": "code",
   "execution_count": 15,
   "id": "372ac03b-f78f-4bd2-a175-d57a4e934e22",
   "metadata": {},
   "outputs": [],
   "source": [
    "class class3(class2):\n",
    "    def test3(self):\n",
    "        print(\"class3\")"
   ]
  },
  {
   "cell_type": "code",
   "execution_count": 17,
   "id": "6bff193b-83b3-410a-bb99-bd8d36b41a71",
   "metadata": {},
   "outputs": [],
   "source": [
    "name_class3=class3()"
   ]
  },
  {
   "cell_type": "code",
   "execution_count": 19,
   "id": "02d61130-d4ac-4191-ab08-821ebd761de7",
   "metadata": {},
   "outputs": [
    {
     "name": "stdout",
     "output_type": "stream",
     "text": [
      "class3\n"
     ]
    }
   ],
   "source": [
    "name_class3.test3()"
   ]
  },
  {
   "cell_type": "code",
   "execution_count": 20,
   "id": "c147ba0d-9563-40e5-9b7d-5855abffbf9c",
   "metadata": {},
   "outputs": [
    {
     "name": "stdout",
     "output_type": "stream",
     "text": [
      "class2\n"
     ]
    }
   ],
   "source": [
    "name_class3.test2()"
   ]
  },
  {
   "cell_type": "code",
   "execution_count": 21,
   "id": "3e9e3b1f-736a-4c67-97f4-ffc236812f5c",
   "metadata": {},
   "outputs": [
    {
     "name": "stdout",
     "output_type": "stream",
     "text": [
      "class1\n"
     ]
    }
   ],
   "source": [
    "name_class3.test1()"
   ]
  },
  {
   "cell_type": "markdown",
   "id": "c49297a2-9d30-4076-b505-3caa734a538d",
   "metadata": {},
   "source": [
    "3. Multiple Inheritance"
   ]
  },
  {
   "cell_type": "code",
   "execution_count": 26,
   "id": "53a2c2ac-1371-48bc-ac84-315d371a7ac5",
   "metadata": {},
   "outputs": [],
   "source": [
    "class class1:\n",
    "    def test1(self):\n",
    "        print(\"class1\")"
   ]
  },
  {
   "cell_type": "code",
   "execution_count": 27,
   "id": "fc35109b-5b34-4d39-87d9-ce8d6c298f80",
   "metadata": {},
   "outputs": [],
   "source": [
    "class class2:\n",
    "    def test2(self):\n",
    "        print(\"class2\")"
   ]
  },
  {
   "cell_type": "code",
   "execution_count": 28,
   "id": "031fcc5c-98b9-44b2-a2ab-699d8e969e10",
   "metadata": {},
   "outputs": [],
   "source": [
    "class class3(class1,class2):\n",
    "    def test3(self):\n",
    "        print(\"class3\")"
   ]
  },
  {
   "cell_type": "code",
   "execution_count": 29,
   "id": "5a34fffd-eb85-43b0-9d88-ba7d9eb53a32",
   "metadata": {},
   "outputs": [],
   "source": [
    "obj_class3=class3()"
   ]
  },
  {
   "cell_type": "code",
   "execution_count": 31,
   "id": "732d148b-8f04-464d-836d-538884d6356e",
   "metadata": {},
   "outputs": [
    {
     "name": "stdout",
     "output_type": "stream",
     "text": [
      "class2\n"
     ]
    }
   ],
   "source": [
    "obj_class3.test2()"
   ]
  },
  {
   "cell_type": "code",
   "execution_count": 32,
   "id": "9d264e2f-3e26-4f76-9014-b16a39101ac7",
   "metadata": {},
   "outputs": [
    {
     "name": "stdout",
     "output_type": "stream",
     "text": [
      "class1\n"
     ]
    }
   ],
   "source": [
    "obj_class3.test1()"
   ]
  },
  {
   "cell_type": "markdown",
   "id": "0ccfdfaa-942e-4f03-98fc-a1125520df95",
   "metadata": {},
   "source": [
    "4. Hierachical Inheritance"
   ]
  },
  {
   "cell_type": "code",
   "execution_count": 50,
   "id": "3504c8e6-3450-4d7b-858c-911ce66b65c1",
   "metadata": {},
   "outputs": [],
   "source": [
    "class parent:\n",
    "    def test(self):\n",
    "        print(\"class\")"
   ]
  },
  {
   "cell_type": "code",
   "execution_count": 51,
   "id": "d2f7f4c4-88f7-4f3c-8c1e-067026a80134",
   "metadata": {},
   "outputs": [],
   "source": [
    "class class1(parent):\n",
    "    def test1(self):\n",
    "        print(\"class1\")"
   ]
  },
  {
   "cell_type": "code",
   "execution_count": 52,
   "id": "d096b5ed-3169-45f7-8bc3-47fb11ba54ed",
   "metadata": {},
   "outputs": [],
   "source": [
    "class class2(parent):\n",
    "    def test2(self):\n",
    "        print(\"class2\")"
   ]
  },
  {
   "cell_type": "code",
   "execution_count": 53,
   "id": "00781da5-0951-4807-85bf-5f50a3fecda1",
   "metadata": {},
   "outputs": [],
   "source": [
    "obj_class1=class1()"
   ]
  },
  {
   "cell_type": "code",
   "execution_count": 54,
   "id": "fec9c49d-0a60-4500-b6df-9e8b77c1abac",
   "metadata": {},
   "outputs": [],
   "source": [
    "obj_class2=class2()"
   ]
  },
  {
   "cell_type": "code",
   "execution_count": 55,
   "id": "4ba99d6f-5048-473f-a869-37a9290546c3",
   "metadata": {},
   "outputs": [
    {
     "name": "stdout",
     "output_type": "stream",
     "text": [
      "class\n"
     ]
    }
   ],
   "source": [
    "obj_class1.test()"
   ]
  },
  {
   "cell_type": "code",
   "execution_count": 56,
   "id": "3b937961-fcea-47da-be75-9bdbb48897da",
   "metadata": {},
   "outputs": [
    {
     "name": "stdout",
     "output_type": "stream",
     "text": [
      "class2\n"
     ]
    }
   ],
   "source": [
    "obj_class.test3()"
   ]
  },
  {
   "cell_type": "markdown",
   "id": "0c64dbc5-3426-413a-a75d-7d0cab6e9c6b",
   "metadata": {},
   "source": [
    "5. Hybrid Inheritance"
   ]
  },
  {
   "cell_type": "code",
   "execution_count": 57,
   "id": "151d3b6d-2ce6-4ae7-a173-2123ae4c3ff0",
   "metadata": {},
   "outputs": [],
   "source": [
    "class class1:\n",
    "    def test1(self):\n",
    "        print(\"class 1\")"
   ]
  },
  {
   "cell_type": "code",
   "execution_count": 58,
   "id": "8fdb0121-009b-4def-8d8e-f9713e85cbde",
   "metadata": {},
   "outputs": [],
   "source": [
    "class class2:\n",
    "    def test2(self):\n",
    "        print(\"class 2\")"
   ]
  },
  {
   "cell_type": "code",
   "execution_count": 59,
   "id": "07f85dcf-9d4f-4653-adcb-f28eb8be9020",
   "metadata": {},
   "outputs": [],
   "source": [
    "class class3\n",
    "    def test3(self):\n",
    "        print(\"class 3\")"
   ]
  },
  {
   "cell_type": "code",
   "execution_count": 60,
   "id": "a62af686-c03f-474f-8d26-5831f4e0a49c",
   "metadata": {},
   "outputs": [],
   "source": [
    "obj_class1=class2()"
   ]
  },
  {
   "cell_type": "code",
   "execution_count": 61,
   "id": "e88b6734-4b02-4b6e-bb31-3086f73d84e8",
   "metadata": {},
   "outputs": [],
   "source": [
    "obj_class1=class3()"
   ]
  },
  {
   "cell_type": "code",
   "execution_count": 62,
   "id": "2e7db5a6-ab7d-4f16-9130-4c5c032f87e8",
   "metadata": {},
   "outputs": [
    {
     "name": "stdout",
     "output_type": "stream",
     "text": [
      "class 3\n"
     ]
    }
   ],
   "source": [
    "obj_class1.test3()"
   ]
  },
  {
   "cell_type": "code",
   "execution_count": 65,
   "id": "6acc7309-c899-4326-83ac-736cad1a882f",
   "metadata": {},
   "outputs": [
    {
     "name": "stdout",
     "output_type": "stream",
     "text": [
      "class3\n"
     ]
    }
   ],
   "source": [
    "obj_class1.test3()"
   ]
  },
  {
   "cell_type": "code",
   "execution_count": null,
   "id": "66817294-7824-4bd5-9199-785f6f3a3311",
   "metadata": {},
   "outputs": [],
   "source": []
  }
 ],
 "metadata": {
  "kernelspec": {
   "display_name": "Python 3 (ipykernel)",
   "language": "python",
   "name": "python3"
  },
  "language_info": {
   "codemirror_mode": {
    "name": "ipython",
    "version": 3
   },
   "file_extension": ".py",
   "mimetype": "text/x-python",
   "name": "python",
   "nbconvert_exporter": "python",
   "pygments_lexer": "ipython3",
   "version": "3.10.8"
  }
 },
 "nbformat": 4,
 "nbformat_minor": 5
}
