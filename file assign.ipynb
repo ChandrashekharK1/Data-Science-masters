{
 "cells": [
  {
   "cell_type": "markdown",
   "id": "575ed1e4-1c75-4162-8824-d8caa028f570",
   "metadata": {},
   "source": [
    "Q1. Which function is used to open a file? What are the different modes of opening a file? Explain each mode\n",
    "of file opening."
   ]
  },
  {
   "cell_type": "markdown",
   "id": "8e9b8f29-f874-401e-974d-3bdf0208b410",
   "metadata": {},
   "source": [
    "ANS:"
   ]
  },
  {
   "cell_type": "markdown",
   "id": "466232c0-7776-44b3-a0f5-a72a89021457",
   "metadata": {},
   "source": [
    "1. fopen() function is used to open a file"
   ]
  },
  {
   "cell_type": "markdown",
   "id": "378dfd05-612d-4b40-8a2f-066c5a79b1a3",
   "metadata": {},
   "source": [
    " differnt modes of opening a file are as following"
   ]
  },
  {
   "cell_type": "markdown",
   "id": "caf4c58a-9bf7-4898-9454-56730f2f34e5",
   "metadata": {},
   "source": [
    "1. Read only(\"r\")"
   ]
  },
  {
   "cell_type": "markdown",
   "id": "7e4e3587-3708-4f78-bf4c-94a1c475329b",
   "metadata": {},
   "source": [
    "2. Read and Write(\"r+\")"
   ]
  },
  {
   "cell_type": "markdown",
   "id": "4e08165a-7c82-4883-8df2-6564f63c9d71",
   "metadata": {},
   "source": [
    "3. Write only(\"w\")"
   ]
  },
  {
   "cell_type": "markdown",
   "id": "7fd59d97-ce25-49c4-8386-ed8ac0ef7714",
   "metadata": {},
   "source": [
    "4. Write and Read(w+)"
   ]
  },
  {
   "cell_type": "markdown",
   "id": "2daceaea-608e-4146-92f3-f8c5672bd176",
   "metadata": {},
   "source": [
    "5. append only(\"a\")"
   ]
  },
  {
   "cell_type": "markdown",
   "id": "3a2ce5f8-8fda-478f-9bcf-57119919a833",
   "metadata": {},
   "source": [
    "6. append and read(\"a+\")"
   ]
  },
  {
   "cell_type": "markdown",
   "id": "3c11d2b8-f9d0-4a37-b5c8-4e05addd3d2b",
   "metadata": {},
   "source": [
    "## explaination"
   ]
  },
  {
   "cell_type": "markdown",
   "id": "c934bbae-74d5-4a77-8b8c-0820642ad778",
   "metadata": {},
   "source": [
    "#    Mode\t     Description\n",
    "1.    r\t        =Open a file for reading. (default)\n",
    "2.    w\t        =Open a file for writing. Creates a new file if it does not exist or truncates the file if it exists.\n",
    "3.    x\t        =Open a file for exclusive creation. If the file already exists, the operation fails.\n",
    "4.    a\t        =Open a file for appending at the end of the file without truncating it. Creates a new file if it does not exist.\n",
    "5.    t\t        =Open in text mode. (default)\n",
    "6.    b\t        =Open in binary mode.\n",
    "7.    +\t        =Open a file for updating (reading and writing)"
   ]
  },
  {
   "cell_type": "markdown",
   "id": "1063bd35-6032-4c03-a7d9-9127cd8e61f9",
   "metadata": {},
   "source": [
    "Q2. Why close() function is used? Why is it important to close a file?"
   ]
  },
  {
   "cell_type": "markdown",
   "id": "55057855-3105-40da-8fe8-88558608e884",
   "metadata": {},
   "source": [
    "ANS:"
   ]
  },
  {
   "cell_type": "markdown",
   "id": "16dd2d38-4547-46b8-a6aa-1fef8ba5e78a",
   "metadata": {},
   "source": [
    "The close() method closes an open file. we should always close your files, in some cases, due to buffering, changes made to a file may not show until you close the file."
   ]
  },
  {
   "cell_type": "code",
   "execution_count": null,
   "id": "a4e5aae2-c6d1-4bee-bd4b-b927be624234",
   "metadata": {},
   "outputs": [],
   "source": [
    "f=open(\"test.txt\",\"r\")\n",
    "f.close()"
   ]
  },
  {
   "cell_type": "markdown",
   "id": "777a8cfc-62d0-4b34-9685-cabe0cd735d6",
   "metadata": {},
   "source": [
    "Q3. Write a python program to create a text file. Write ‘I want to become a Data Scientist’ in that file. Then\n",
    "close the file. Open this file and read the content of the file."
   ]
  },
  {
   "cell_type": "markdown",
   "id": "7bb667c1-f2f5-41c9-b06b-62b30723a031",
   "metadata": {},
   "source": [
    "ANS:"
   ]
  },
  {
   "cell_type": "code",
   "execution_count": 6,
   "id": "80401543-e988-4688-9401-ac1ef1caa051",
   "metadata": {},
   "outputs": [],
   "source": [
    "f=open(\"file.txt\",\"w\")"
   ]
  },
  {
   "cell_type": "code",
   "execution_count": 7,
   "id": "47aa95a3-0694-46ba-80c3-b8e8a9648a34",
   "metadata": {},
   "outputs": [
    {
     "data": {
      "text/plain": [
       "33"
      ]
     },
     "execution_count": 7,
     "metadata": {},
     "output_type": "execute_result"
    }
   ],
   "source": [
    "f.write(\"I Want to become a Data Scientist\")"
   ]
  },
  {
   "cell_type": "code",
   "execution_count": 8,
   "id": "87dae2b7-d8a9-4a2e-ab0f-8c21865276c8",
   "metadata": {},
   "outputs": [],
   "source": [
    "f.close()"
   ]
  },
  {
   "cell_type": "code",
   "execution_count": 9,
   "id": "991a7380-3a8d-4210-8903-4314ed530bd0",
   "metadata": {},
   "outputs": [],
   "source": [
    "f=open(\"file.txt\",\"r\")"
   ]
  },
  {
   "cell_type": "code",
   "execution_count": 10,
   "id": "06976364-ef10-498f-b1e8-e5c5fea9b7ea",
   "metadata": {},
   "outputs": [
    {
     "data": {
      "text/plain": [
       "'I Want to become a Data Scientist'"
      ]
     },
     "execution_count": 10,
     "metadata": {},
     "output_type": "execute_result"
    }
   ],
   "source": [
    "f.read()"
   ]
  },
  {
   "cell_type": "markdown",
   "id": "378076af-a4bb-4b9b-aac2-7af73478df69",
   "metadata": {},
   "source": [
    "Q4. Explain the following with python code: read(), readline() and readlines()."
   ]
  },
  {
   "cell_type": "markdown",
   "id": "72a63072-4dd4-4ab5-af8f-3e5d3971ea0d",
   "metadata": {},
   "source": [
    "ANS:"
   ]
  },
  {
   "cell_type": "markdown",
   "id": "87c021e5-6417-41d3-8c6f-cec72c0eb35a",
   "metadata": {},
   "source": [
    "The read() function shall attempt to read nbyte bytes from the file associated with the open file descriptor, fildes, into the buffer pointed to by buf."
   ]
  },
  {
   "cell_type": "markdown",
   "id": "849d7f36-ac86-411c-97d4-fbd2d2486bdb",
   "metadata": {},
   "source": [
    "1. read()"
   ]
  },
  {
   "cell_type": "code",
   "execution_count": 16,
   "id": "a05ed159-e67c-443f-91fd-9a734b581001",
   "metadata": {},
   "outputs": [
    {
     "data": {
      "text/plain": [
       "83"
      ]
     },
     "execution_count": 16,
     "metadata": {},
     "output_type": "execute_result"
    }
   ],
   "source": [
    "f=open(\"file1.txt\",\"w\")\n",
    "f.write(\"Open a file for exclusive creation. If the file already exists, the operation fails\")"
   ]
  },
  {
   "cell_type": "code",
   "execution_count": 17,
   "id": "d1b6aa92-64f0-4138-95fc-a2d8c028e927",
   "metadata": {},
   "outputs": [
    {
     "data": {
      "text/plain": [
       "'Open a file for exclusive creation. If the file already exists, the operation fails'"
      ]
     },
     "execution_count": 17,
     "metadata": {},
     "output_type": "execute_result"
    }
   ],
   "source": [
    "f=open(\"file1.txt\",\"r\")\n",
    "f.read()"
   ]
  },
  {
   "cell_type": "markdown",
   "id": "f13d2899-e5f2-4a6b-b362-d6164feab718",
   "metadata": {},
   "source": [
    "2. readline()"
   ]
  },
  {
   "cell_type": "markdown",
   "id": "5c514230-3f6e-434e-9dac-ba2434b51c4a",
   "metadata": {},
   "source": [
    "The readline() method returns one line from the file. You can also specified how many bytes from the line to return, by using the size parameter."
   ]
  },
  {
   "cell_type": "code",
   "execution_count": 12,
   "id": "5828abff-1c3c-4bac-b371-3c88e042d950",
   "metadata": {},
   "outputs": [
    {
     "data": {
      "text/plain": [
       "84"
      ]
     },
     "execution_count": 12,
     "metadata": {},
     "output_type": "execute_result"
    }
   ],
   "source": [
    "f=open(\"file1.txt\",\"w\")\n",
    "f.write(\"Open a file for exclusive creation.\\n If the file already exists, the operation fails\")"
   ]
  },
  {
   "cell_type": "code",
   "execution_count": 13,
   "id": "bbbda1c1-212a-40c6-8287-272aa4272958",
   "metadata": {},
   "outputs": [
    {
     "data": {
      "text/plain": [
       "'Open a fil'"
      ]
     },
     "execution_count": 13,
     "metadata": {},
     "output_type": "execute_result"
    }
   ],
   "source": [
    "f=open(\"file1.txt\",\"r\")\n",
    "f.readline(10)"
   ]
  },
  {
   "cell_type": "markdown",
   "id": "9a052ae3-c084-4794-b603-9e739d3ecb79",
   "metadata": {},
   "source": [
    "3.readlines()"
   ]
  },
  {
   "cell_type": "markdown",
   "id": "9558fe4f-1a46-4aea-af03-9d3f4f26ad36",
   "metadata": {},
   "source": [
    "The readlines() method returns a list containing each line in the file as a list item. Use the hint parameter to limit the number of lines returned."
   ]
  },
  {
   "cell_type": "code",
   "execution_count": 14,
   "id": "9d10c96f-d4ee-4324-8fb7-8020b0aef350",
   "metadata": {},
   "outputs": [
    {
     "data": {
      "text/plain": [
       "84"
      ]
     },
     "execution_count": 14,
     "metadata": {},
     "output_type": "execute_result"
    }
   ],
   "source": [
    "f=open(\"file1.txt\",\"w\")\n",
    "f.write(\"Open a file for exclusive creation.\\n If the file already exists, the operation fails\")"
   ]
  },
  {
   "cell_type": "code",
   "execution_count": 15,
   "id": "2c5d2c03-5f17-4767-ab8c-045ed8aabb71",
   "metadata": {},
   "outputs": [
    {
     "data": {
      "text/plain": [
       "['Open a file for exclusive creation.\\n',\n",
       " ' If the file already exists, the operation fails']"
      ]
     },
     "execution_count": 15,
     "metadata": {},
     "output_type": "execute_result"
    }
   ],
   "source": [
    "f=open(\"file1.txt\",\"r\")\n",
    "f.readlines(50)"
   ]
  },
  {
   "cell_type": "markdown",
   "id": "e6e8001c-fd28-41a0-a971-f4d446ec7307",
   "metadata": {},
   "source": [
    "Q5. Explain why with statement is used with open(). What is the advantage of using with statement and\n",
    "open() together?"
   ]
  },
  {
   "cell_type": "markdown",
   "id": "ba088043-7de3-460d-a05a-6974477ed8ee",
   "metadata": {},
   "source": [
    "ANS:"
   ]
  },
  {
   "cell_type": "markdown",
   "id": "89ce3f58-697d-4302-ab3c-e132d10e8e8f",
   "metadata": {},
   "source": [
    "Opening files using the with statement is generally recommended because it ensures that open file descriptors are automatically closed after the flow of execution leaves the with code block."
   ]
  },
  {
   "cell_type": "markdown",
   "id": "10b29814-ab1d-405c-abf8-1038fd36bcee",
   "metadata": {},
   "source": [
    "\n",
    "The with statement works with the open() function to open a file. Unlike open() where you have to close the file with the close() method, the with statement closes the file for you without you telling it to. This is because the with statement calls 2 built-in methods behind the scene – __enter()__ and __exit()__ "
   ]
  },
  {
   "cell_type": "markdown",
   "id": "75f5f135-82d1-4c6c-bd31-9183efae3c7c",
   "metadata": {},
   "source": [
    "Q6. Explain the write() and writelines() functions. Give a suitable example."
   ]
  },
  {
   "cell_type": "markdown",
   "id": "923db592-4a08-47a6-b93d-dc1936a033b9",
   "metadata": {},
   "source": [
    "ANS:"
   ]
  },
  {
   "cell_type": "markdown",
   "id": "e72bfd8a-3723-4df7-babd-ea162e546abd",
   "metadata": {},
   "source": [
    "write()"
   ]
  },
  {
   "cell_type": "markdown",
   "id": "93457d07-5822-4e38-928b-185c159243bb",
   "metadata": {},
   "source": [
    "The write() method writes a specified text to the file. Where the specified text will be inserted depends on the file mode and stream position."
   ]
  },
  {
   "cell_type": "code",
   "execution_count": 23,
   "id": "1d32472c-43e8-498c-b062-16a1edc20af9",
   "metadata": {},
   "outputs": [
    {
     "data": {
      "text/plain": [
       "10"
      ]
     },
     "execution_count": 23,
     "metadata": {},
     "output_type": "execute_result"
    }
   ],
   "source": [
    "f=open(\"file2.txt\",\"w\")\n",
    "f.write(\"i am a boy\")"
   ]
  },
  {
   "cell_type": "code",
   "execution_count": 29,
   "id": "0f859ef1-4fe5-4e20-ba96-e3cc8e5ac3db",
   "metadata": {},
   "outputs": [
    {
     "data": {
      "text/plain": [
       "'i am a boy'"
      ]
     },
     "execution_count": 29,
     "metadata": {},
     "output_type": "execute_result"
    }
   ],
   "source": [
    "f=open(\"file2.txt\",\"r\")\n",
    "f.read()"
   ]
  },
  {
   "cell_type": "markdown",
   "id": "2d5856f3-b5ff-41c0-8953-7a4d8854ebe4",
   "metadata": {},
   "source": [
    "writelines()"
   ]
  },
  {
   "cell_type": "markdown",
   "id": "bccd445b-1e76-48a2-80ef-f58d3f4b889a",
   "metadata": {},
   "source": [
    "The writelines() method writes the items of a list to the file. Where the texts will be inserted depends on the file mode and stream position."
   ]
  },
  {
   "cell_type": "code",
   "execution_count": 33,
   "id": "83f72c54-464a-40f2-ac87-bb7c183db70a",
   "metadata": {},
   "outputs": [
    {
     "ename": "TypeError",
     "evalue": "write() argument must be str, not list",
     "output_type": "error",
     "traceback": [
      "\u001b[0;31m---------------------------------------------------------------------------\u001b[0m",
      "\u001b[0;31mTypeError\u001b[0m                                 Traceback (most recent call last)",
      "Cell \u001b[0;32mIn[33], line 2\u001b[0m\n\u001b[1;32m      1\u001b[0m f\u001b[38;5;241m=\u001b[39m\u001b[38;5;28mopen\u001b[39m(\u001b[38;5;124m\"\u001b[39m\u001b[38;5;124mfile2.txt\u001b[39m\u001b[38;5;124m\"\u001b[39m,\u001b[38;5;124m\"\u001b[39m\u001b[38;5;124mw\u001b[39m\u001b[38;5;124m\"\u001b[39m)\n\u001b[0;32m----> 2\u001b[0m \u001b[43mf\u001b[49m\u001b[38;5;241;43m.\u001b[39;49m\u001b[43mwrite\u001b[49m\u001b[43m(\u001b[49m\u001b[43m[\u001b[49m\u001b[38;5;124;43m\"\u001b[39;49m\u001b[38;5;124;43mi am a boy\u001b[39;49m\u001b[38;5;124;43m\"\u001b[39;49m\u001b[43m]\u001b[49m\u001b[43m)\u001b[49m\n",
      "\u001b[0;31mTypeError\u001b[0m: write() argument must be str, not list"
     ]
    }
   ],
   "source": [
    "f=open(\"file2.txt\",\"w\")\n",
    "f.write([\"i am a boy\"])"
   ]
  },
  {
   "cell_type": "code",
   "execution_count": 32,
   "id": "0b9886dc-8697-41f2-ac1a-4fc98fdaab3e",
   "metadata": {},
   "outputs": [
    {
     "data": {
      "text/plain": [
       "'i am a boy'"
      ]
     },
     "execution_count": 32,
     "metadata": {},
     "output_type": "execute_result"
    }
   ],
   "source": [
    "f=open(\"file2.txt\",\"r\")\n",
    "f.read()"
   ]
  },
  {
   "cell_type": "code",
   "execution_count": null,
   "id": "43a21ce8-d53b-4480-b7b4-f72f20b6106b",
   "metadata": {},
   "outputs": [],
   "source": []
  }
 ],
 "metadata": {
  "kernelspec": {
   "display_name": "Python 3 (ipykernel)",
   "language": "python",
   "name": "python3"
  },
  "language_info": {
   "codemirror_mode": {
    "name": "ipython",
    "version": 3
   },
   "file_extension": ".py",
   "mimetype": "text/x-python",
   "name": "python",
   "nbconvert_exporter": "python",
   "pygments_lexer": "ipython3",
   "version": "3.10.8"
  }
 },
 "nbformat": 4,
 "nbformat_minor": 5
}
