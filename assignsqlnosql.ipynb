{
 "cells": [
  {
   "cell_type": "markdown",
   "id": "a081fe7a-8451-4659-88a4-5b00d0b30149",
   "metadata": {},
   "source": [
    "Q1. What is a database? Differentiate between SQL and NoSQL databases."
   ]
  },
  {
   "cell_type": "markdown",
   "id": "499c993b-f429-46fc-8cd6-b50af9cc8729",
   "metadata": {},
   "source": [
    "ANS:"
   ]
  },
  {
   "cell_type": "markdown",
   "id": "b5ed2fcc-871a-4847-be26-e8b83fb8b766",
   "metadata": {},
   "source": [
    "SQL databases are vertically scalable, while NoSQL databases are horizontally scalable. SQL databases are table-based, while NoSQL databases are document, key-value, graph, or wide-column stores. SQL databases are better for multi-row transactions, while NoSQL is better for unstructured data like documents"
   ]
  },
  {
   "cell_type": "markdown",
   "id": "3315279b-50e2-4b4b-809f-62d66698e851",
   "metadata": {},
   "source": [
    "Q2. What is DDL? Explain why CREATE, DROP, ALTER, and TRUNCATE are used with an example."
   ]
  },
  {
   "cell_type": "markdown",
   "id": "fa78cbbf-ec62-401f-b8be-221f0eeef8ed",
   "metadata": {},
   "source": [
    "ANS:"
   ]
  },
  {
   "cell_type": "markdown",
   "id": "f8a1d16c-677e-48da-a665-88632ba77fe1",
   "metadata": {},
   "source": [
    "DDL statements are similar to a computer programming language for defining data structures, especially database schemas.\n",
    "1 CREATE :\n",
    "Its used to create the table, schema\n",
    "\"CREATE TABLE if not exists test1.test_table (c1 INT, c2 VARCHAR(50), c3 FLOAT, c4 INT, c5 VARCHAR(40))\n",
    "\n",
    "2 DROP:\n",
    "Drop SQL statements are used to drop or delete the database objects\n",
    "\n",
    "SQL> drop table emp;\n",
    "\n",
    "3 ALTER:\n",
    "Alter command is used to modify database objects such as tables etc. Its used to add, drop and rename the columns of the table\n",
    " alter table hr.emp add (phone number, email varchar2(35));\n",
    " \n",
    "4 TRUNCATE:\n",
    "This SQL statement deletes all the rows that are present in the table\n",
    "\n",
    "SQL> truncate table emp;\n",
    "\n",
    "\n"
   ]
  },
  {
   "cell_type": "markdown",
   "id": "5a16f9df-7818-4548-9412-5169cb57e972",
   "metadata": {},
   "source": [
    "Q3. What is DML? Explain INSERT, UPDATE, and DELETE with an example."
   ]
  },
  {
   "cell_type": "markdown",
   "id": "76ab87ae-1e9d-42c4-87bb-573aea56a392",
   "metadata": {},
   "source": [
    "ANS:"
   ]
  },
  {
   "cell_type": "markdown",
   "id": "8b2abf7c-8597-42cc-8791-f50979657204",
   "metadata": {},
   "source": [
    "DML is an abbreviation for Data Manipulation Language. Represents a collection of programming languages explicitly used to make changes to the database, such as: CRUD operations to create, read, update and delete data. Using INSERT, SELECT, UPDATE, and DELETE commands.\n",
    "\n",
    "1 INSERT:\n",
    "Insert command is used to insert data into a table\n",
    "eg.mycursor.execute(\"insert into test1.test_table value(123, 'shekhar', 456, 45.4, 'kadam')\"\n",
    "\n",
    "2 UPDATE:\n",
    "Update command is used to update existing data within a table\n",
    "eg.UPDATE Employee SET Emp_name= Ram WHERE Emp_id= 001;\n",
    "\n",
    "3 DELETE:\n",
    "Delete command is used to delete records from a database table\n",
    "eg.DELETE from Employee WHERE Emp_id=002;\n"
   ]
  },
  {
   "cell_type": "markdown",
   "id": "74e50ec6-ecde-413e-9917-e76aca34ed33",
   "metadata": {},
   "source": [
    "Q4. What is DQL? Explain SELECT with an example."
   ]
  },
  {
   "cell_type": "markdown",
   "id": "ccd55a61-0784-4229-8812-34d5c56126e9",
   "metadata": {},
   "source": [
    "ANS:"
   ]
  },
  {
   "cell_type": "markdown",
   "id": "c424b434-65d6-40ec-9dfe-78eb87cf6a40",
   "metadata": {},
   "source": [
    " DQL is Data Query Language. DQL is a part of the grouping involved in SQL (Structures Query Language) sub-languages.\n",
    " \n",
    " SELECT: It is used to retrieve data from the database.\n",
    " SELECT column1, column2 FROM table1, table2 WHERE column2='value"
   ]
  },
  {
   "cell_type": "markdown",
   "id": "888eddb7-ccf2-4a43-9427-e1defcd5091a",
   "metadata": {},
   "source": [
    "Q5. Explain Primary Key and Foreign Key."
   ]
  },
  {
   "cell_type": "markdown",
   "id": "ce1a57b7-f539-4f97-b3fb-cbeb18ca0ec9",
   "metadata": {},
   "source": [
    "ANS:"
   ]
  },
  {
   "cell_type": "markdown",
   "id": "33c99062-fdcd-44b5-92de-f1472dbd117e",
   "metadata": {},
   "source": [
    "A primary key is a unique identifier for each record in a table. A foreign key establishes a relationship between tables by referencing the primary key of another table"
   ]
  },
  {
   "cell_type": "markdown",
   "id": "db4da304-e1a7-45c6-a5a6-64434e085c82",
   "metadata": {},
   "source": [
    "Q6. Write a python code to connect MySQL to python. Explain the cursor() and execute() method."
   ]
  },
  {
   "cell_type": "markdown",
   "id": "274ebc40-08e1-461b-80b9-3986a3e314da",
   "metadata": {},
   "source": [
    "ANS:"
   ]
  },
  {
   "cell_type": "code",
   "execution_count": null,
   "id": "45cfbae3-a85c-4f82-b451-81c9955eb47f",
   "metadata": {},
   "outputs": [],
   "source": [
    "import mysql.connector\n",
    "mydb=mysql.connector.connect(\n",
    "    host=\"localhost\",\n",
    "    user=\"abc\",\n",
    "    password=\"password\"\n",
    ")\n",
    "print(mydb)\n",
    "mycursor=mydb.cursor()\n",
    "mycursor.execute(\"SHOW DATABASES\")\n",
    "for x in mycursor:\n",
    "    print(x)\n",
    "    "
   ]
  },
  {
   "cell_type": "markdown",
   "id": "e7892173-2ada-4634-a466-cae14d41e44d",
   "metadata": {},
   "source": [
    "1 Cursor objects interact with the MySQL server using a MySQLConnection object. Several related classes inherit from MySQLCursor . To create a cursor of one of these types, pass the appropriate arguments to cursor() : MySQLCursorBuffered creates a buffered cursor.\n",
    "\n",
    "2 This method executes the given database operation (query or command)"
   ]
  },
  {
   "cell_type": "markdown",
   "id": "728c7cdf-5555-4c9c-9976-e774e9a75b6a",
   "metadata": {},
   "source": [
    "Q7. Give the order of execution of SQL clauses in an SQL query."
   ]
  },
  {
   "cell_type": "markdown",
   "id": "0f892cd1-bda8-49f9-9b02-602a7c43ec08",
   "metadata": {},
   "source": [
    "ANS:"
   ]
  },
  {
   "cell_type": "markdown",
   "id": "0c01fd36-b705-43a2-9c57-5fcdb4535123",
   "metadata": {},
   "source": [
    "#1.FROM=\t        Tables are joined to get the base data.\n",
    "#2.WHERE=\t    The base data is filtered.\n",
    "#3.GROUP BY=\t    The filtered base data is grouped.\n",
    "4.HAVING=\t    The grouped base data is filtered.\n",
    "5.SELECT=\t    The final data is returned.\n",
    "6.ORDER BY=\t    The final data is sorted.\n",
    "7.LIMIT=\t    The returned data is limited to row count"
   ]
  },
  {
   "cell_type": "code",
   "execution_count": null,
   "id": "d4d61673-5b73-401f-8b5e-1af9e1f41cd0",
   "metadata": {},
   "outputs": [],
   "source": []
  }
 ],
 "metadata": {
  "kernelspec": {
   "display_name": "Python 3 (ipykernel)",
   "language": "python",
   "name": "python3"
  },
  "language_info": {
   "codemirror_mode": {
    "name": "ipython",
    "version": 3
   },
   "file_extension": ".py",
   "mimetype": "text/x-python",
   "name": "python",
   "nbconvert_exporter": "python",
   "pygments_lexer": "ipython3",
   "version": "3.10.8"
  }
 },
 "nbformat": 4,
 "nbformat_minor": 5
}
