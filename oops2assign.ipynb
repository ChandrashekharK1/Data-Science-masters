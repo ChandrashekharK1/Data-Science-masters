{
 "cells": [
  {
   "cell_type": "markdown",
   "id": "1e3bb69b-dba6-480f-90d9-a82a0317076e",
   "metadata": {},
   "source": [
    "Q1, Create a vehicle class with an init method having instance variables as name_of_vehicle, max_speed\n",
    "and average_of_vehicle."
   ]
  },
  {
   "cell_type": "markdown",
   "id": "2dfaa8ad-73f7-480a-b519-aaa3b35fc6f4",
   "metadata": {},
   "source": [
    "ANS:"
   ]
  },
  {
   "cell_type": "code",
   "execution_count": 21,
   "id": "ac589479-d5f1-41be-9739-1ce618a35ebd",
   "metadata": {},
   "outputs": [],
   "source": [
    "class vehicle:\n",
    "    def __init__(self,name_of_vehicle,max_speed,average_speed_of_vehicle):\n",
    "        self.name_of_vehicle=name_of_vehicle\n",
    "        self.max_speed=max_speed\n",
    "        self.average_speed_of_vehicle=average_speed_of_vehicle\n",
    "        \n",
    "    def return_information_of_vehicle(self):\n",
    "        return  self.name_of_vehicle,self.max_speed,self.average_speed_of_vehicle"
   ]
  },
  {
   "cell_type": "code",
   "execution_count": 22,
   "id": "b0e3f64f-84be-4a3c-9498-24c04baa53bc",
   "metadata": {},
   "outputs": [],
   "source": [
    "obj_vehicle=vehicle(\"Fortuner\",200,100)"
   ]
  },
  {
   "cell_type": "code",
   "execution_count": 27,
   "id": "29a1cd87-14ef-4015-b02b-680445b6f3b8",
   "metadata": {},
   "outputs": [
    {
     "data": {
      "text/plain": [
       "('Fortuner', 200, 100)"
      ]
     },
     "execution_count": 27,
     "metadata": {},
     "output_type": "execute_result"
    }
   ],
   "source": [
    "obj_vehicle.return_information_of_vehicle()\n"
   ]
  },
  {
   "cell_type": "code",
   "execution_count": 25,
   "id": "6fb06ade-60a2-4245-a715-1ab7e33997c4",
   "metadata": {},
   "outputs": [
    {
     "data": {
      "text/plain": [
       "100"
      ]
     },
     "execution_count": 25,
     "metadata": {},
     "output_type": "execute_result"
    }
   ],
   "source": [
    "obj_vehicle.average_speed_of_vehicle"
   ]
  },
  {
   "cell_type": "code",
   "execution_count": 28,
   "id": "c4191812-b086-4a7b-909d-77e00501dbac",
   "metadata": {},
   "outputs": [
    {
     "data": {
      "text/plain": [
       "200"
      ]
     },
     "execution_count": 28,
     "metadata": {},
     "output_type": "execute_result"
    }
   ],
   "source": [
    "obj_vehicle.max_speed"
   ]
  },
  {
   "cell_type": "code",
   "execution_count": 29,
   "id": "74c99d67-718e-4eb9-9e68-09e38540e61e",
   "metadata": {},
   "outputs": [
    {
     "data": {
      "text/plain": [
       "'Fortuner'"
      ]
     },
     "execution_count": 29,
     "metadata": {},
     "output_type": "execute_result"
    }
   ],
   "source": [
    "obj_vehicle.name_of_vehicle"
   ]
  },
  {
   "cell_type": "markdown",
   "id": "d1c0894b-6f49-49e4-b2bf-a82c28ab2377",
   "metadata": {},
   "source": [
    "Q2. Create a child class car from the vehicle class created in Que 1, which will inherit the vehicle class.\n",
    "Create a method named seating_capacity which takes capacity as an argument and returns the name of\n",
    "the vehicle and its seating capacity."
   ]
  },
  {
   "cell_type": "markdown",
   "id": "27114c23-f819-458d-b0cc-f5c08bdf82a1",
   "metadata": {},
   "source": [
    "ANS:"
   ]
  },
  {
   "cell_type": "code",
   "execution_count": 2,
   "id": "c27bffc6-530c-46e5-91c9-0e13b3f55355",
   "metadata": {},
   "outputs": [],
   "source": [
    "class vehicle:\n",
    "    def name_of_the_vehicle(self):\n",
    "        return \"name of the vehicle is Fortuner\"\n",
    "    def seating_capacity(self):\n",
    "        return \"seating capacity is 5\""
   ]
  },
  {
   "cell_type": "code",
   "execution_count": 3,
   "id": "f2eb86f7-b616-41ba-8d18-067e37f131f7",
   "metadata": {},
   "outputs": [],
   "source": [
    "class car(vehicle):\n",
    "    def seating_capacity(capacity):\n",
    "        pass\n",
    "        \n",
    "        "
   ]
  },
  {
   "cell_type": "code",
   "execution_count": 4,
   "id": "419fb362-19d8-4099-8ab6-64a0552158c0",
   "metadata": {},
   "outputs": [],
   "source": [
    "obj_car=vehicle()"
   ]
  },
  {
   "cell_type": "code",
   "execution_count": 5,
   "id": "533e4ac3-169c-4cdd-b3c4-302f66ee910b",
   "metadata": {},
   "outputs": [
    {
     "data": {
      "text/plain": [
       "'name of the vehicle is Fortuner'"
      ]
     },
     "execution_count": 5,
     "metadata": {},
     "output_type": "execute_result"
    }
   ],
   "source": [
    "obj_car.name_of_the_vehicle()"
   ]
  },
  {
   "cell_type": "code",
   "execution_count": 6,
   "id": "ac144b5b-46ce-48b7-a1f3-739c2bce7ce3",
   "metadata": {},
   "outputs": [
    {
     "data": {
      "text/plain": [
       "'seating capacity is 5'"
      ]
     },
     "execution_count": 6,
     "metadata": {},
     "output_type": "execute_result"
    }
   ],
   "source": [
    "obj_car.seating_capacity()"
   ]
  },
  {
   "cell_type": "markdown",
   "id": "40f5fbd4-b9b5-47b5-a4fc-6ab05ad77ffb",
   "metadata": {},
   "source": [
    "Q3. What is multiple inheritance? Write a python code to demonstrate multiple inheritance."
   ]
  },
  {
   "cell_type": "markdown",
   "id": "e5f8c294-182f-4f5c-a104-009d99d4e99f",
   "metadata": {},
   "source": [
    "ANS:"
   ]
  },
  {
   "cell_type": "markdown",
   "id": "9efe7335-a6ba-4ffe-9c56-981a9461bcd6",
   "metadata": {},
   "source": [
    "Multiple inheritance is a feature of some object-oriented computer programming languages in which an object or class can inherit features from more than one parent object or parent class."
   ]
  },
  {
   "cell_type": "code",
   "execution_count": 13,
   "id": "b3eee6d1-5b72-4df6-ba89-1037881378c0",
   "metadata": {},
   "outputs": [],
   "source": [
    "class class1:\n",
    "    def test1(self):\n",
    "        print(\"physics class\")\n",
    "        "
   ]
  },
  {
   "cell_type": "code",
   "execution_count": 14,
   "id": "690e76f7-6b4c-4e73-9ace-8b5a4cdc1f17",
   "metadata": {},
   "outputs": [],
   "source": [
    "class class2:\n",
    "    def test2(self):\n",
    "        print(\"chemistry class\")"
   ]
  },
  {
   "cell_type": "code",
   "execution_count": 15,
   "id": "8183854f-d279-4337-b5ac-94683d88d718",
   "metadata": {},
   "outputs": [],
   "source": [
    "class class3(class1,class2):\n",
    "    pass"
   ]
  },
  {
   "cell_type": "code",
   "execution_count": 16,
   "id": "e965b8a5-84ed-462e-8746-3a06604f68ff",
   "metadata": {},
   "outputs": [],
   "source": [
    "obj_class3=class3()"
   ]
  },
  {
   "cell_type": "code",
   "execution_count": 17,
   "id": "1fac51c8-d65f-4154-80a5-774f7379ab8e",
   "metadata": {},
   "outputs": [
    {
     "name": "stdout",
     "output_type": "stream",
     "text": [
      "chemistry class\n"
     ]
    }
   ],
   "source": [
    "obj_class3.test2()"
   ]
  },
  {
   "cell_type": "code",
   "execution_count": 18,
   "id": "d9ac5818-dcde-4a18-b42b-78066a344135",
   "metadata": {},
   "outputs": [
    {
     "name": "stdout",
     "output_type": "stream",
     "text": [
      "physics class\n"
     ]
    }
   ],
   "source": [
    "obj_class3.test1()"
   ]
  },
  {
   "cell_type": "markdown",
   "id": "c9b51fef-ec30-44da-b832-be6ef2cd47fd",
   "metadata": {},
   "source": [
    "Q4. What are getter and setter in python? Create a class and create a getter and a setter method in this\n",
    "class."
   ]
  },
  {
   "cell_type": "markdown",
   "id": "4bfdaf0c-d9c9-4415-9e83-2f46a6a469f8",
   "metadata": {},
   "source": [
    "Ans:"
   ]
  },
  {
   "cell_type": "code",
   "execution_count": 25,
   "id": "c6b87f80-5a60-4059-8043-557047e87797",
   "metadata": {},
   "outputs": [],
   "source": [
    "class car:\n",
    "    def __init__(self,name,model,year):\n",
    "        self.__name=name\n",
    "        self.__model=model\n",
    "        self.__year=year\n",
    "        \n",
    "    def set_name(self,name):\n",
    "        self.__name=name if name==\"creta\" else name==\"fortuner\"  \n",
    "        \n",
    "    def get_name(self):\n",
    "        return self.__name"
   ]
  },
  {
   "cell_type": "code",
   "execution_count": 26,
   "id": "20072033-e61a-42da-a4f2-a9553b17b052",
   "metadata": {},
   "outputs": [],
   "source": [
    "obj_car=car(\"fortuner\",2.0,2023)"
   ]
  },
  {
   "cell_type": "code",
   "execution_count": 27,
   "id": "658ad7e4-4ccf-4aa4-97ba-89315705eeec",
   "metadata": {},
   "outputs": [
    {
     "data": {
      "text/plain": [
       "'fortuner'"
      ]
     },
     "execution_count": 27,
     "metadata": {},
     "output_type": "execute_result"
    }
   ],
   "source": [
    "obj_car.get_name()"
   ]
  },
  {
   "cell_type": "code",
   "execution_count": 28,
   "id": "c74a0b60-e958-44c0-a215-c15b6f8b46b0",
   "metadata": {},
   "outputs": [
    {
     "data": {
      "text/plain": [
       "'fortuner'"
      ]
     },
     "execution_count": 28,
     "metadata": {},
     "output_type": "execute_result"
    }
   ],
   "source": [
    "obj_car._car__name"
   ]
  },
  {
   "cell_type": "code",
   "execution_count": 29,
   "id": "1810877c-b7c4-4e34-82bc-623e911798e1",
   "metadata": {},
   "outputs": [],
   "source": [
    "obj_car.set_name(\"creta\")"
   ]
  },
  {
   "cell_type": "code",
   "execution_count": 30,
   "id": "eb7b4d93-61a4-4398-851a-eae26c735b98",
   "metadata": {},
   "outputs": [
    {
     "data": {
      "text/plain": [
       "'creta'"
      ]
     },
     "execution_count": 30,
     "metadata": {},
     "output_type": "execute_result"
    }
   ],
   "source": [
    "obj_car.get_name()"
   ]
  },
  {
   "cell_type": "code",
   "execution_count": 31,
   "id": "9c34ba90-e11a-4667-ad37-a4a983a304ef",
   "metadata": {},
   "outputs": [
    {
     "data": {
      "text/plain": [
       "'creta'"
      ]
     },
     "execution_count": 31,
     "metadata": {},
     "output_type": "execute_result"
    }
   ],
   "source": [
    "obj_car._car__name"
   ]
  },
  {
   "cell_type": "markdown",
   "id": "df7e6683-ac03-4bc7-bef1-831c2ca2660d",
   "metadata": {},
   "source": [
    "Q5.What is method overriding in python? Write a python code to demonstrate method overriding."
   ]
  },
  {
   "cell_type": "markdown",
   "id": "ea769473-0d7f-4a6c-90b0-1e376c8aa72a",
   "metadata": {},
   "source": [
    "ANS:"
   ]
  },
  {
   "cell_type": "markdown",
   "id": "f57deb53-3a6d-454e-b3e7-07c10fc4a15f",
   "metadata": {},
   "source": [
    "Method overriding is an ability of any object-oriented programming language that allows a subclass or child class to provide a specific implementation of a method that is already provided by one of its super-classes or parent classes. When a method in a subclass has the same name, same parameters or signature and same return type(or sub-type) as a method in its super-class, then the method in the subclass is said to override the method in the super-class."
   ]
  },
  {
   "cell_type": "code",
   "execution_count": 53,
   "id": "5b3b53b1-93dc-43d9-94fa-aab5e9f5f6e1",
   "metadata": {},
   "outputs": [],
   "source": [
    "class information_1:\n",
    "    def name(self):\n",
    "        print(\"I am a boy\")"
   ]
  },
  {
   "cell_type": "code",
   "execution_count": 54,
   "id": "a219d5c2-2ee5-423d-8a28-830975f0d319",
   "metadata": {},
   "outputs": [],
   "source": [
    "class information_2:\n",
    "    def name(self):\n",
    "        print(\"I am a girl\")"
   ]
  },
  {
   "cell_type": "code",
   "execution_count": 55,
   "id": "3110d71d-2b33-46ba-a5f4-bf39f77feb9f",
   "metadata": {},
   "outputs": [],
   "source": [
    "def class_parcer(class_obj):\n",
    "    for i in class_obj:\n",
    "        i.name()\n",
    "    "
   ]
  },
  {
   "cell_type": "code",
   "execution_count": 56,
   "id": "8821ae91-5b70-45cf-ba7a-08606270ff82",
   "metadata": {},
   "outputs": [],
   "source": [
    "information_1_obj=information_1()\n",
    "information_2_obj=information_2()"
   ]
  },
  {
   "cell_type": "code",
   "execution_count": 51,
   "id": "00415ef1-004d-41f2-b654-0fc3b1f8039f",
   "metadata": {},
   "outputs": [],
   "source": [
    "class_obj=[information_1_obj,information_2_obj]"
   ]
  },
  {
   "cell_type": "code",
   "execution_count": 52,
   "id": "cbbfe6fa-bfe4-4216-b53b-0b7c04a8ac99",
   "metadata": {},
   "outputs": [
    {
     "ename": "TypeError",
     "evalue": "'tuple' object is not callable",
     "output_type": "error",
     "traceback": [
      "\u001b[0;31m---------------------------------------------------------------------------\u001b[0m",
      "\u001b[0;31mTypeError\u001b[0m                                 Traceback (most recent call last)",
      "Cell \u001b[0;32mIn[52], line 1\u001b[0m\n\u001b[0;32m----> 1\u001b[0m \u001b[43mclass_parcer\u001b[49m\u001b[43m(\u001b[49m\u001b[43mclass_obj\u001b[49m\u001b[43m)\u001b[49m\n",
      "\u001b[0;31mTypeError\u001b[0m: 'tuple' object is not callable"
     ]
    }
   ],
   "source": [
    "class_parcer(class_obj)"
   ]
  },
  {
   "cell_type": "code",
   "execution_count": null,
   "id": "06d81a23-7b48-413d-b9cf-b8b6a6c48754",
   "metadata": {},
   "outputs": [],
   "source": []
  }
 ],
 "metadata": {
  "kernelspec": {
   "display_name": "Python 3 (ipykernel)",
   "language": "python",
   "name": "python3"
  },
  "language_info": {
   "codemirror_mode": {
    "name": "ipython",
    "version": 3
   },
   "file_extension": ".py",
   "mimetype": "text/x-python",
   "name": "python",
   "nbconvert_exporter": "python",
   "pygments_lexer": "ipython3",
   "version": "3.10.8"
  }
 },
 "nbformat": 4,
 "nbformat_minor": 5
}
