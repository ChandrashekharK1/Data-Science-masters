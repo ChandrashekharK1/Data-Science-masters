{
 "cells": [
  {
   "cell_type": "markdown",
   "id": "1e9e2101-d7d6-4a3e-bfb7-bb4e60d7995f",
   "metadata": {},
   "source": [
    "Q.1 what is multithreading in python? why is it used? Name the module used to handle threads in python"
   ]
  },
  {
   "cell_type": "markdown",
   "id": "30d04b70-b601-4c90-84d1-b780248b2194",
   "metadata": {},
   "source": [
    "ANS:"
   ]
  },
  {
   "cell_type": "markdown",
   "id": "185a8f85-9537-40d8-855d-d97ca33936e9",
   "metadata": {},
   "source": [
    "Multithreading is defined as the ability of a processor to execute multiple threads concurrently. In a simple, single-core CPU, it is achieved using frequent switching between threads.\n",
    "it is used to improve a system or application performance\n",
    "Threading Modules. The threading module is a high-level implementation of multithreading used to deploy an application in Python. To use multithreading, we need to import the threading module in Python Program. A start() method is used to initiate the activity of a thread.\n"
   ]
  },
  {
   "cell_type": "markdown",
   "id": "06dcb49c-69c8-43c4-9c15-33ecc0876952",
   "metadata": {},
   "source": [
    "Q.2 why threading module used? write the use of the following functions\n",
    "1. activeCount()\n",
    "2. currentThread()\n",
    "3. enumerate()"
   ]
  },
  {
   "cell_type": "markdown",
   "id": "fc977063-4d14-4ca0-9566-6ee9253d35ba",
   "metadata": {},
   "source": [
    "ANS:"
   ]
  },
  {
   "cell_type": "markdown",
   "id": "9f997b3c-2769-40bd-8e14-288066f42c4b",
   "metadata": {},
   "source": [
    " threading module is a high-level implementation of multithreading used to deploy an application in Python. To use multithreading, we need to import the threading module in Python Program.\n",
    "1. active_count() is an inbuilt method of the threading module, it is used to return the number of Thread objects that are active at any instant\n",
    "2. current thread() return the current Thread object, corresponding to the caller's thread of control.If the caller's thread of control was not created through the threadingmodule, a dummy thread object with limited functionality is returned.\n",
    "3. enumarate() Return a list of all Thread objects currently alive.The list includes daemonic threads, dummy thread objects created bycurrent_thread(), and the main thread. It excludes terminated threads andthreads that have not yet been started\n"
   ]
  },
  {
   "cell_type": "markdown",
   "id": "9c6b88e9-e7a7-48f2-b19a-420a18ca8f95",
   "metadata": {},
   "source": [
    "Q.3  Explain the following functions\n",
    "1. run()\n",
    "2. start()\n",
    "3. join()\n",
    "4. isAlive()"
   ]
  },
  {
   "cell_type": "markdown",
   "id": "1b0ad53b-4a94-479c-95f2-6a75388121a3",
   "metadata": {},
   "source": [
    "ANS:"
   ]
  },
  {
   "cell_type": "markdown",
   "id": "60a06732-3496-4725-8b32-220add28c125",
   "metadata": {},
   "source": [
    "1. run() method executes any target function belonging to a given thread object that is now active.\n",
    "2. start() method activates and prompts a thread object to be run.\n",
    "3. join()  method delays a program’s flow of execution until the target thread has been completely read.\n",
    "4. .is_alive() method returns True if the thread is still running and False, otherwise."
   ]
  },
  {
   "cell_type": "markdown",
   "id": "772e72e2-83ab-4100-895c-eb0da8141d4b",
   "metadata": {},
   "source": [
    "Q.4. write a python program to create two threads. Thread one must print the list of squares and thread\n",
    "two must print the list of cubes"
   ]
  },
  {
   "cell_type": "markdown",
   "id": "157f5a15-dfec-4cd9-9adc-73b120fd9cfa",
   "metadata": {},
   "source": [
    "ANS:"
   ]
  },
  {
   "cell_type": "code",
   "execution_count": 8,
   "id": "bb7bd32b-2d3b-48b3-a4e1-8e374415e67a",
   "metadata": {},
   "outputs": [
    {
     "name": "stdout",
     "output_type": "stream",
     "text": [
      " Calculate the square root of the given number\n",
      " Square is :  4\n",
      " Square is :  9\n",
      " Square is :  16\n",
      " Square is :  25\n",
      " Calculate the cube of  the given number\n",
      " Cube is :  8\n",
      " Cube is :  27\n",
      " Cube is :  64\n",
      " Cube is :  125\n"
     ]
    }
   ],
   "source": [
    "import threading  \n",
    "import time \n",
    "  \n",
    "def cal_sqre(num):  \n",
    "    print(\" Calculate the square root of the given number\")  \n",
    "    for n in num:   \n",
    "        time.sleep(0.3)  \n",
    "        print(' Square is : ', n * n) \n",
    "        \n",
    "\n",
    "def cal_cube(num):   \n",
    "    print(\" Calculate the cube of  the given number\")  \n",
    "    for n in num:   \n",
    "        time.sleep(0.3)  \n",
    "        print(\" Cube is : \", n * n *n) \n",
    "        \n",
    "a = [2,3,4,5]  \n",
    "t1 = time.time()  \n",
    "cal_sqre(a)\n",
    "cal_cube(a)\n",
    "\n",
    "  \n",
    "\n",
    "  \n"
   ]
  },
  {
   "cell_type": "markdown",
   "id": "4a25e75d-78f5-486a-915a-1565c274a773",
   "metadata": {},
   "source": [
    "Q.5 State advantages and disadvantages of multithreading"
   ]
  },
  {
   "cell_type": "markdown",
   "id": "653e6775-a224-4b0a-83fb-e7f0d346f417",
   "metadata": {},
   "source": [
    "ANS:"
   ]
  },
  {
   "cell_type": "markdown",
   "id": "46e7791b-8118-445d-9c14-029df725cd85",
   "metadata": {},
   "source": [
    "1. Advantages of multithraeding=\n",
    "multithreading multiple executions are carried out in the same process environment to a large degree independent of one other Multithreading assist the applications to perform and respond better.\n",
    "The operations can be completely interrupting driven.\n",
    "The processor utilization is inferior through multithreading. Thus the power consumption is decreased to a great extend.\n",
    "Multithreading is helpful in applications that must processes very large amount of data.\n",
    "\n",
    "2. Dsadvantages of multithreading=\n",
    "the threads are sharing the similar address area and can access the resources like open files problems can take place if different threads use different data structures.\n",
    "If a parent process has multiple threads for suitable process functioning the child processes also should be multithreaded since all of them may be essential.\n"
   ]
  },
  {
   "cell_type": "markdown",
   "id": "2854226b-c96d-4a94-8e5b-f3ca6db6621a",
   "metadata": {},
   "source": [
    "Q6. Explain deadlocks and race conditions."
   ]
  },
  {
   "cell_type": "markdown",
   "id": "3b2f54af-6204-4b14-a837-4b77e7682565",
   "metadata": {},
   "source": [
    "ANS:"
   ]
  },
  {
   "cell_type": "markdown",
   "id": "fcd50a3c-8525-4b38-ab0e-e9d6bf802b6c",
   "metadata": {},
   "source": [
    "Both share some similarities, such as they both occur in multi-thread solutions and hamper device performance. However, both are not the same. A race condition occurs when two threads use the same variable at a given time. Deadlock exists when two threads seek one lock simultaneously."
   ]
  }
 ],
 "metadata": {
  "kernelspec": {
   "display_name": "Python 3 (ipykernel)",
   "language": "python",
   "name": "python3"
  },
  "language_info": {
   "codemirror_mode": {
    "name": "ipython",
    "version": 3
   },
   "file_extension": ".py",
   "mimetype": "text/x-python",
   "name": "python",
   "nbconvert_exporter": "python",
   "pygments_lexer": "ipython3",
   "version": "3.10.8"
  }
 },
 "nbformat": 4,
 "nbformat_minor": 5
}
