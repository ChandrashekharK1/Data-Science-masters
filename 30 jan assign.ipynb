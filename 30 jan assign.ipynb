{
 "cells": [
  {
   "cell_type": "code",
   "execution_count": null,
   "id": "c174cd05-ca9f-47e4-bbf1-8ad72150bc4e",
   "metadata": {},
   "outputs": [],
   "source": [
    "1. Write a program to accept percentage from the user and display the grade according to the following criteria\n",
    "  \n",
    "    ##grade\n",
    "    ##Marks\n",
    "    \n",
    "    A\n",
    "    >90             \n",
    "\n",
    "    B\n",
    "    >80 and <=90     \n",
    "    \n",
    "    C\n",
    "    >=60 and <=80    \n",
    "    \n",
    "    D\n",
    "    below 60         \n",
    "\n"
   ]
  },
  {
   "cell_type": "markdown",
   "id": "be33a428-a4a4-4541-adee-6f8bc9392ef0",
   "metadata": {},
   "source": [
    "ANS:"
   ]
  },
  {
   "cell_type": "code",
   "execution_count": 30,
   "id": "bf02be7c-3ee0-428f-89df-8e15c34fc707",
   "metadata": {},
   "outputs": [
    {
     "name": "stdin",
     "output_type": "stream",
     "text": [
      "enter your percentage 85\n"
     ]
    },
    {
     "name": "stdout",
     "output_type": "stream",
     "text": [
      "Grade B\n"
     ]
    }
   ],
   "source": [
    "percentage=int(float(input(\"enter your percentage\")))\n",
    "if percentage>90:\n",
    "      print(\"Grade A\")\n",
    "elif percentage>80 and percentage<=90:\n",
    "    print(\"Grade B\")\n",
    "elif percentage>=60 and percentage<=80:\n",
    "    print(\"Grade C\")\n",
    "else:\n",
    "    print(\"Grade D\")\n",
    "    \n",
    "    \n"
   ]
  },
  {
   "cell_type": "code",
   "execution_count": null,
   "id": "f4e41985-28bc-4b46-b2fd-eeade4f3df75",
   "metadata": {},
   "outputs": [],
   "source": [
    "2. Write a program to accept the cost price of a bike and display the road tax to be paid according to the \n",
    "following criteria: \n",
    "Tax \n",
    "15% \n",
    "10% \n",
    "5% \n",
    "Cost Price(in Rs) \n",
    ">100000 \n",
    ">50000 and <= 100000 \n",
    "<= 50000 "
   ]
  },
  {
   "cell_type": "markdown",
   "id": "a06250b4-d569-47b4-b885-ec7119e8fe9e",
   "metadata": {},
   "source": [
    "ANS:"
   ]
  },
  {
   "cell_type": "code",
   "execution_count": 34,
   "id": "62387426-c79c-403b-9593-cca56636e2be",
   "metadata": {},
   "outputs": [
    {
     "name": "stdin",
     "output_type": "stream",
     "text": [
      "Enter your cost_price 80000\n"
     ]
    },
    {
     "name": "stdout",
     "output_type": "stream",
     "text": [
      "Tax is 10%\n"
     ]
    }
   ],
   "source": [
    "cost_price=int(float(input(\"Enter your cost_price\")))\n",
    "if cost_price>100000:\n",
    "    print(\"Tax is 15%\")\n",
    "elif cost_price>50000 and cost_price<=100000:\n",
    "    print(\"Tax is 10%\")\n",
    "else:\n",
    "    print(\"tax is 5%\")\n",
    "    \n",
    "    \n",
    "    \n"
   ]
  },
  {
   "cell_type": "markdown",
   "id": "68a43bae-66dc-419f-85c7-cdfe1796a342",
   "metadata": {},
   "source": [
    "3. Accept any city from the user and display monuments of that city. \n",
    "\n",
    " City:   \n",
    " Delhi,\n",
    " Agra,\n",
    " jaypur\n",
    "\n",
    "monument:\n",
    "Red Fort, \n",
    "Taj Mahal, \n",
    "Jal Mahal"
   ]
  },
  {
   "cell_type": "markdown",
   "id": "ab09a024-cfd3-4970-bb42-2c258d5f5cd9",
   "metadata": {},
   "source": [
    "ANS:"
   ]
  },
  {
   "cell_type": "code",
   "execution_count": 51,
   "id": "d7c9cc6c-a917-4f06-b795-58a485359adb",
   "metadata": {},
   "outputs": [
    {
     "name": "stdin",
     "output_type": "stream",
     "text": [
      "enter your city name Jaypur\n"
     ]
    },
    {
     "name": "stdout",
     "output_type": "stream",
     "text": [
      "Jal Mahal\n"
     ]
    }
   ],
   "source": [
    "\n",
    "City_name=input(\"enter your city name\")\n",
    "if City_name==\"Delhi\":\n",
    "    print(\"Red Forte\")\n",
    "elif City_name==\"Agra\":\n",
    "        print(\"Taj Mahal\")\n",
    "else:\n",
    "    if City_name==\"Jaypur\":\n",
    "        print(\"Jal Mahal\")\n",
    "        "
   ]
  },
  {
   "cell_type": "markdown",
   "id": "5d8bee93-7c9b-4913-a14b-25644f6c72c0",
   "metadata": {},
   "source": [
    "4. Check how many times a given number can be divided by 3 before it is less than or equal to 10. "
   ]
  },
  {
   "cell_type": "markdown",
   "id": "c9ad75d1-dd43-42b6-a031-be44f95b8519",
   "metadata": {},
   "source": [
    "ANS:"
   ]
  },
  {
   "cell_type": "code",
   "execution_count": null,
   "id": "593494c4-907c-4bb4-8754-1c0b340e79fa",
   "metadata": {},
   "outputs": [],
   "source": [
    "number=0\n",
    "while number<=10:\n",
    "    if number%3==0:\n",
    "        print(number)\n",
    "        number=number+1\n",
    "        \n",
    "    else:\n",
    "        print(\"Exit\")\n",
    "    \n",
    "    "
   ]
  },
  {
   "cell_type": "markdown",
   "id": "8d1034c3-987e-475b-95e3-5df848960fec",
   "metadata": {},
   "source": [
    "5. Why and When to Use while Loop in Python give a detailed description with example"
   ]
  },
  {
   "cell_type": "markdown",
   "id": "62fc21bf-7363-46b6-8224-371889f12c8c",
   "metadata": {},
   "source": [
    "ANS:"
   ]
  },
  {
   "cell_type": "markdown",
   "id": "9e3d16f5-341b-445d-9ce2-82448b610c3a",
   "metadata": {},
   "source": [
    "Python while loop is used to run a block code until a certain condition is met. Here, A while loop evaluates the condition. If the condition evaluates to True , the code inside the while loop is executed."
   ]
  },
  {
   "cell_type": "markdown",
   "id": "0f41881e-03dc-47c9-a613-29dd40f1d99a",
   "metadata": {},
   "source": [
    "example:"
   ]
  },
  {
   "cell_type": "code",
   "execution_count": 3,
   "id": "49d35d15-0136-4188-9039-b750cbd6c4cf",
   "metadata": {},
   "outputs": [
    {
     "name": "stdout",
     "output_type": "stream",
     "text": [
      "100\n",
      "200\n",
      "300\n",
      "400\n",
      "500\n",
      "600\n",
      "700\n",
      "800\n",
      "900\n",
      "1000\n",
      "money is exhuasted\n"
     ]
    }
   ],
   "source": [
    "##write a code using while loop for withdraw money 1000 Rs \n",
    "##each time only 100 can be withdraw and when atm or account \n",
    "##ran out of money print money is exhuasted\n",
    "money=100\n",
    "while money<=1000:\n",
    "    print(money)\n",
    "    money=money+100\n",
    "else:\n",
    "    print(\"money is exhuasted\")"
   ]
  },
  {
   "cell_type": "code",
   "execution_count": 4,
   "id": "0977579f-239b-4fb7-bc73-06fd9e85952f",
   "metadata": {},
   "outputs": [
    {
     "name": "stdout",
     "output_type": "stream",
     "text": [
      "1\n",
      "2\n",
      "3\n",
      "4\n",
      "5\n",
      "6\n",
      "7\n",
      "8\n",
      "9\n",
      "10\n",
      "exit\n"
     ]
    }
   ],
   "source": [
    "## code for printing exit by until its become 10\n",
    "exit=1\n",
    "while exit<=10:\n",
    "    print(exit)\n",
    "    exit=exit+1\n",
    "else:\n",
    "    print(\"exit\")"
   ]
  },
  {
   "cell_type": "markdown",
   "id": "ed5e17f2-1994-4a20-8f66-a6c3e2113629",
   "metadata": {},
   "source": [
    "6. Use nested while loop to print 3 different pattern."
   ]
  },
  {
   "cell_type": "markdown",
   "id": "c0e7b298-337c-435b-b10f-e2ea4be86521",
   "metadata": {},
   "source": [
    "ANS:"
   ]
  },
  {
   "cell_type": "code",
   "execution_count": 5,
   "id": "9aaf4f89-1161-47b7-8589-79d50bc7abbb",
   "metadata": {},
   "outputs": [
    {
     "name": "stdout",
     "output_type": "stream",
     "text": [
      "* \n",
      "* * \n",
      "* * * \n",
      "* * * * \n",
      "* * * * * \n",
      "* * * * * * \n"
     ]
    }
   ],
   "source": [
    "n=6\n",
    "for i in range(0,n):\n",
    "    for j in range(0,i+1):\n",
    "        print(\"*\",end=\" \")\n",
    "    print(\"\\r\")  "
   ]
  },
  {
   "cell_type": "code",
   "execution_count": 34,
   "id": "e48861b1-b839-4dc3-b8bc-351830a6166b",
   "metadata": {},
   "outputs": [
    {
     "name": "stdout",
     "output_type": "stream",
     "text": [
      "*********************"
     ]
    }
   ],
   "source": [
    "n=6\n",
    "for i in range(0,n):\n",
    "    for j in range(0,i+1):\n",
    "        print(\"*\",end=\"\")"
   ]
  },
  {
   "cell_type": "code",
   "execution_count": 35,
   "id": "db3042be-5943-4288-b032-d975e1b23743",
   "metadata": {},
   "outputs": [
    {
     "name": "stdout",
     "output_type": "stream",
     "text": [
      "*\n",
      "*\n",
      "*\n",
      "*\n",
      "*\n",
      "*\n",
      "*\n",
      "*\n",
      "*\n",
      "*\n",
      "*\n",
      "*\n",
      "*\n",
      "*\n",
      "*\n",
      "*\n",
      "*\n",
      "*\n",
      "*\n",
      "*\n",
      "*\n"
     ]
    }
   ],
   "source": [
    "n=6\n",
    "for i in range(0,n):\n",
    "    for j in range(0,i+1):\n",
    "        print(\"*\")"
   ]
  },
  {
   "cell_type": "markdown",
   "id": "61ef4717-36c6-465d-bcce-776e04166d99",
   "metadata": {},
   "source": [
    "7. Reverse a while loop to display numbers from 10 to 1."
   ]
  },
  {
   "cell_type": "markdown",
   "id": "de55294a-4b8b-4e7d-bf60-f1e9dac7d4a8",
   "metadata": {},
   "source": [
    "ANS:"
   ]
  },
  {
   "cell_type": "code",
   "execution_count": 51,
   "id": "0ae18fec-b6a7-49be-af4d-43a02cc16cf4",
   "metadata": {},
   "outputs": [
    {
     "name": "stdout",
     "output_type": "stream",
     "text": [
      "10\n",
      "9\n",
      "8\n",
      "7\n",
      "6\n",
      "5\n",
      "4\n",
      "3\n",
      "2\n",
      "1\n"
     ]
    }
   ],
   "source": [
    "exit=10\n",
    "while exit!=0:\n",
    "    print(exit)\n",
    "    exit=exit-1\n"
   ]
  },
  {
   "cell_type": "code",
   "execution_count": null,
   "id": "4d48a095-5317-4531-ba00-2380e72d6ff7",
   "metadata": {},
   "outputs": [],
   "source": []
  }
 ],
 "metadata": {
  "kernelspec": {
   "display_name": "Python 3 (ipykernel)",
   "language": "python",
   "name": "python3"
  },
  "language_info": {
   "codemirror_mode": {
    "name": "ipython",
    "version": 3
   },
   "file_extension": ".py",
   "mimetype": "text/x-python",
   "name": "python",
   "nbconvert_exporter": "python",
   "pygments_lexer": "ipython3",
   "version": "3.10.8"
  }
 },
 "nbformat": 4,
 "nbformat_minor": 5
}
